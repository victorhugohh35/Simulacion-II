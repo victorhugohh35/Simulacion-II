{
  "nbformat": 4,
  "nbformat_minor": 0,
  "metadata": {
    "colab": {
      "provenance": [],
      "authorship_tag": "ABX9TyOuezMP8DC0bTQTI52RqD6r",
      "include_colab_link": true
    },
    "kernelspec": {
      "name": "python3",
      "display_name": "Python 3"
    },
    "language_info": {
      "name": "python"
    }
  },
  "cells": [
    {
      "cell_type": "markdown",
      "metadata": {
        "id": "view-in-github",
        "colab_type": "text"
      },
      "source": [
        "<a href=\"https://colab.research.google.com/github/victorhugohh35/Simulacion-II/blob/main/Pruebadeuniformidad.ipynb\" target=\"_parent\"><img src=\"https://colab.research.google.com/assets/colab-badge.svg\" alt=\"Open In Colab\"/></a>"
      ]
    },
    {
      "cell_type": "markdown",
      "source": [
        "## Prueba de uniformidad $\\chi^2$"
      ],
      "metadata": {
        "id": "KUjBXeRsURAp"
      }
    },
    {
      "cell_type": "markdown",
      "source": [
        "En general, la prueba chi-cuadrada busca determinar si los números del conjunto $t_i$ se distribuyen de manera uniforme en el intervalo (0,1). Para llevar a cabo esta prueba es necesario dividir el intervalo (0,1) en n sub-intervalos(clases),es recomendable usar $n=\\sqrt T$ donde $T$ es el númeron total de observaciones o datos. Luego se clasifica cada número del conjunto $t$ en las $n$ clases. A la cantidad de números $t_i$  que se clasifican en cada clase se le denomina frecuencia observada $O_i$, y a la cantidad de números $t_i$ que se espera encontrar en cada intervalo se le llama frecuencia esperada $E_i$ ; teóricamente, la $E_i$ es igual a $E_i=\\frac{T}{n}$. A partir de los valores de $O_i$ y $E_i$, se determina el estadístico $\\chi^2$ mediante la ecuación:\n",
        "\\begin{equation}\n",
        "\\chi^2_c = \\sum_{i=1}^{n} \\frac{(O_i - E_i)^2}{E_i}\n",
        "\\end{equation}\n",
        "Si el valor estadistico $\\chi^2_c$ es menor al de tablas de $\\chi^2_{1-\\alpha,n-1}$ donde $n-1$ son los grados de libertad y $1-\\alpha$ el nivel de aceptación, entonces no se puede rechazar la $H_0$: No hay diferencia entre el conjunto de datos $t_i$ y la  distribución uniforme(0,1)."
      ],
      "metadata": {
        "id": "l0GWErbEWfw0"
      }
    },
    {
      "cell_type": "markdown",
      "source": [
        "**Implementamos el método anteriormente descrito en Python.**\n"
      ],
      "metadata": {
        "id": "iVKlItHRjWdp"
      }
    },
    {
      "cell_type": "markdown",
      "source": [
        "Copiamos los a datos a los cuales queremos aplicar la prueba, y pedimos al usuario ingresar el nivel de aceptación que requiera."
      ],
      "metadata": {
        "id": "5i_yj-FTjnxC"
      }
    },
    {
      "cell_type": "code",
      "source": [
        "#Prueba de uniformidad (0,1) chi-cuadrada\n",
        "#Victor Hugo Hernandez Hernandez\n",
        "\n",
        "from scipy.stats import chi2\n",
        "import math\n",
        "#datos problema 3\n",
        "#datos = [38, 33, 25, 5, 69, 35, 98, 52, 12, 79,\n",
        "#        50, 46, 95, 42, 49, 11, 78, 34, 2, 43,\n",
        "#        7, 50, 5, 91, 77, 18, 21, 4, 17, 62,\n",
        "#        91, 36, 48, 88, 52, 76, 99, 73, 82, 90]\n",
        "#datos problema 4\n",
        "datos = [0.8797, 0.3884, 0.6289, 0.8750, 0.5999, 0.8589, 0.9996, 0.2415, 0.3808, 0.9606,\n",
        "        0.9848, 0.3469, 0.7977, 0.5844, 0.8147, 0.6431, 0.7387, 0.5613, 0.0318, 0.7401,\n",
        "        0.4557, 0.1592, 0.8536, 0.8846, 0.3410, 0.1492, 0.8681, 0.5291, 0.3188, 0.5992,\n",
        "        0.9170, 0.2204, 0.5991, 0.5461, 0.5739, 0.3254, 0.0856, 0.2258, 0.4603, 0.5027,\n",
        "        0.8376, 0.6235, 0.3681, 0.2088, 0.1525, 0.2006, 0.4720, 0.4272, 0.6360, 0.0954]\n",
        "alpha = float(input(\"Introduce el nivel de aceptación(como porcentaje decimal):\"))"
      ],
      "metadata": {
        "id": "0sHK3d01mz20",
        "colab": {
          "base_uri": "https://localhost:8080/"
        },
        "outputId": "a815be9a-0cb9-44c7-9ff0-6a9b9474ea44"
      },
      "execution_count": 5,
      "outputs": [
        {
          "name": "stdout",
          "output_type": "stream",
          "text": [
            "Introduce el nivel de aceptación(como porcentaje decimal):0.95\n"
          ]
        }
      ]
    },
    {
      "cell_type": "markdown",
      "source": [
        "Normalizamos los datos para que se encuentren en el rango de (0,1) en caso de que sea necesario."
      ],
      "metadata": {
        "id": "wDGooFP-m6TS"
      }
    },
    {
      "cell_type": "code",
      "source": [
        "#verificamos que los datos esten normalizados en (0,1)\n",
        "if 0 < max(datos) < 1:\n",
        "    datos_normalizados = datos\n",
        "else: #si los datos no estan normalizados realizamos un ajuste\n",
        "    longitud = len(str(int(max(datos)))) #longitud del numero entero maximo de los datos\n",
        "    datos_normalizados = [elemento / (10**longitud) for elemento in datos] #normalizamos"
      ],
      "metadata": {
        "id": "czZ3cunjoK6_"
      },
      "execution_count": 6,
      "outputs": []
    },
    {
      "cell_type": "markdown",
      "source": [
        "Calculamos valores importantes."
      ],
      "metadata": {
        "id": "2QgzuGCpqMTa"
      }
    },
    {
      "cell_type": "code",
      "source": [
        "T=len(datos) #numero total de datos\n",
        "n=math.floor(math.sqrt(T))  #numero de clases recomendado\n",
        "gl = n-1  # Grados de libertad que nos ayudara para la prueba final\n",
        "clasediv=1/n #para asignar cada elemento de los datos a una clase, tomando en cuenta que es uniforme\n",
        "chicuadrada=0 #inicializamos el valor del estadistico chi cuadrada en 0"
      ],
      "metadata": {
        "id": "bl3l0iWQqP7h"
      },
      "execution_count": 7,
      "outputs": []
    },
    {
      "cell_type": "markdown",
      "source": [
        "Calculamos los valores esperados para cada clase, que en este caso al ser uniforme, es la misma para todas."
      ],
      "metadata": {
        "id": "3uVqw1YhmXxr"
      }
    },
    {
      "cell_type": "code",
      "source": [
        "E = T/n #numero esperado en la clase i(uniforme)"
      ],
      "metadata": {
        "id": "qu6GNkq4mmkL"
      },
      "execution_count": 8,
      "outputs": []
    },
    {
      "cell_type": "markdown",
      "source": [
        "Y ahora los valores observados para cada clase, supongamos que $clase_i=[a_i,a_{i+1}]$, el codigo verifica si cada uno de los datos se encuentra entre $[a_i,a_{i+1}]$, de ser cierto lo asigna a $clase_i$, de lo contrario continuara probando con $[a_{i+1},a_{i+2}]$, y así sucesivamente hasta quedar asignado en una clase."
      ],
      "metadata": {
        "id": "jqvqK_N9nnxK"
      }
    },
    {
      "cell_type": "code",
      "source": [
        "for i in range(n):\n",
        "    contador = 0\n",
        "    for j in range(T):\n",
        "        if (clasediv*(i))<=datos_normalizados[j]<(clasediv*(i+1)):\n",
        "            contador +=1\n",
        "    chicuadrada= chicuadrada + (contador-E)**2"
      ],
      "metadata": {
        "id": "61cTt0f2nZbb"
      },
      "execution_count": 9,
      "outputs": []
    },
    {
      "cell_type": "markdown",
      "source": [
        "Notemos que en la última linea se está calculando \\begin{equation}\n",
        "\\chi^2_c = \\sum_{i=1}^{n} (O_i - E_i)^2\n",
        "\\end{equation}\n",
        "Asi que queda dividir entre $E_i$ para finalmente obtener\n",
        "\\begin{equation}\n",
        "\\chi^2_c = \\sum_{i=1}^{n} \\frac{(O_i - E_i)^2}{E_i}\n",
        "\\end{equation}"
      ],
      "metadata": {
        "id": "CuA60gdxrmqT"
      }
    },
    {
      "cell_type": "code",
      "source": [
        "chicuadrada = chicuadrada/E #obtenemos el valor final del estadistico"
      ],
      "metadata": {
        "id": "ySTFtmr0rtzx"
      },
      "execution_count": 10,
      "outputs": []
    },
    {
      "cell_type": "markdown",
      "source": [
        "Ahora queda calcular el valor critico, que es el que obtendriamos en las tablas de la distribución $\\chi^2_{1-\\alpha,n-1}$, usamos el alpha($\\alpha$) ingresado por el usuario y los grados de libertad(gl) antes calculados en funcion de el número de clases(n)"
      ],
      "metadata": {
        "id": "5Xo2IAHEtBWp"
      }
    },
    {
      "cell_type": "code",
      "source": [
        "valor_critico = chi2.ppf(alpha, gl)"
      ],
      "metadata": {
        "id": "qYoqarwJtfVt"
      },
      "execution_count": 11,
      "outputs": []
    },
    {
      "cell_type": "markdown",
      "source": [
        "Finalmente, imprimimos los resultados, de acuerdo a la $H_0$ establecida al principio."
      ],
      "metadata": {
        "id": "7M0fuwv9uwZD"
      }
    },
    {
      "cell_type": "code",
      "source": [
        "##imprimimos resultados##\n",
        "print(\"El numero de clases es: \",n)\n",
        "print(\"El valor del estadistico es: \",chicuadrada)\n",
        "print(\"El valor critico es: \",valor_critico)\n",
        "if chicuadrada <= valor_critico:\n",
        "  print(\"Dado que valor estadistico <= valor critico, No rechazamos  H_0, es decir no hay diferencia entre la distribución de la muestra y la distribución teórica.\")\n",
        "else:\n",
        "  print(\"Dado que valor estadistico > valor critico, Rechazamos H_0,es decir los datos proporcionan suficiente evidencia para concluir que la hipótesis nula es poco probable.\")"
      ],
      "metadata": {
        "colab": {
          "base_uri": "https://localhost:8080/"
        },
        "id": "BXzqaPdXwbUB",
        "outputId": "f7d187e9-3ecf-4078-ed12-1c839057caf7"
      },
      "execution_count": 12,
      "outputs": [
        {
          "output_type": "stream",
          "name": "stdout",
          "text": [
            "El numero de clases es:  7\n",
            "El valor del estadistico es:  3.7599999999999993\n",
            "El valor critico es:  12.591587243743977\n",
            "Dado que valor estadistico <= valor critico, No rechazamos  H_0, es decir no hay diferencia entre la distribución de la muestra y la distribución teórica.\n"
          ]
        }
      ]
    }
  ]
}