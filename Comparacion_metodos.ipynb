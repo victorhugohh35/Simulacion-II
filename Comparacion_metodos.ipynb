{
 "cells": [
  {
   "cell_type": "markdown",
   "id": "95e675ac",
   "metadata": {},
   "source": [
    "# Aproximación a INTEGRALES por medio de metodos:\n",
    "## 1) Acierto y error, 2) Media muestral, 3) Muestreo Importancia, 4) Muestreo Estratificado\n",
    "\n",
    "\\begin{equation*}\n",
    "\\begin{aligned}\n",
    " I = \\int_0^1 \\frac{e^{x}-1}{e-1} \\quad dx\n",
    "\\end{aligned}\n",
    "\\end{equation*}"
   ]
  },
  {
   "cell_type": "markdown",
   "id": "e0cbbfd9",
   "metadata": {},
   "source": [
    "Calcular una aproximación a $I$ utilizando los 4 métodos, con un tamaño de muestra $N$ fijo. Además, hacer una comparación entre las variazas obtenidas en cada método."
   ]
  },
  {
   "cell_type": "markdown",
   "id": "e7ed2eeb",
   "metadata": {},
   "source": [
    "### Solución:"
   ]
  },
  {
   "cell_type": "markdown",
   "id": "4608e4a5",
   "metadata": {},
   "source": [
    "Definimos 4 funciones, que corresponden cada una a cada método, para poder evaluar la integral."
   ]
  },
  {
   "cell_type": "code",
   "execution_count": 13,
   "id": "ea6fd7b2",
   "metadata": {},
   "outputs": [],
   "source": [
    "import numpy as np\n",
    "import random\n",
    "import math"
   ]
  },
  {
   "cell_type": "code",
   "execution_count": 14,
   "id": "c97d0d81",
   "metadata": {},
   "outputs": [],
   "source": [
    "def acierto_error(n): #Definimos una funcion que realizara \n",
    "    a=0 #limite inferior de la integral\n",
    "    b=1 #limite superior de la integral\n",
    "    c = 1.2 #Funcion que acota por arriba la funcion a integrar.\n",
    "    aciertos = 0 #Contador de la cantidad de veces que se cumple la condicion de monte carlo acierto y error.\n",
    "\n",
    "    for i in range(1,n+1):\n",
    "        u1=(random.random()) #Generamos un número aleatorio en (0,1)\n",
    "        u2=(random.random()) #Generamos un segundo número aleatorio e independiente en (0,1)\n",
    "        x = (b-a)*u1+a #Trasladamos el numero aleatorio U1 en el intervalo (0,1) al intervalo de interes (intervalo en donde se integra)\n",
    "        g_x = g(x) #Evaluamos la función a integrar en el aleatorio X generado anteriormente. \n",
    "        if g_x > c*u2: #Condición de Monte Carlo de Acierto y Error. \n",
    "            aciertos += 1 #Si se cumple la condición anterior, aumenta el contador el 1.\n",
    "    area = c*(b-a)*aciertos/n\n",
    "    return area #Regresamos el valor aproximado de la integral de todas las iteraciones. "
   ]
  },
  {
   "cell_type": "code",
   "execution_count": 15,
   "id": "921a3ea1",
   "metadata": {},
   "outputs": [],
   "source": [
    "def media_muestral(n): #Definimos una función que realizara \n",
    "    a=0 #limite inferior de la integral\n",
    "    b=1 #limite superior de la integral\n",
    "    aprox = 0 #Contador que ira sumando las evaluaciones de la función en el intervalo de integración N cantidad de veces.\n",
    "    \n",
    "    for i in range(1,n+1):\n",
    "        u = random.random()\n",
    "        aprox = aprox + g((b-a)*u+a) #Cada vez va sumando la evaluación de la función hasta llegar N cantidad de veces\n",
    "    \n",
    "    integral = aprox/n\n",
    "    return integral"
   ]
  },
  {
   "cell_type": "code",
   "execution_count": 16,
   "id": "93004589",
   "metadata": {},
   "outputs": [],
   "source": [
    "def importancia(n):\n",
    "    a=0 #limite inferior de la integral\n",
    "    b=1 #limite superior de la integral\n",
    "    i = 1\n",
    "    suma=0\n",
    "    while i <= n:\n",
    "        u = random.random()\n",
    "        u = (b-a)*u+a\n",
    "        suma = suma + (g(u)/f(u))\n",
    "        i += 1\n",
    "    integral = suma/n\n",
    "    return integral"
   ]
  },
  {
   "cell_type": "code",
   "execution_count": 17,
   "id": "00cb345c",
   "metadata": {},
   "outputs": [],
   "source": [
    "def estratificado(N):\n",
    "    m = 10\n",
    "    a = 0\n",
    "    b = 1\n",
    "    l = (b-a)/m\n",
    "    puntos = int(N/m)\n",
    "    prom = 0\n",
    "    for j in range(1, m+1):\n",
    "        for i in range(1, puntos+1):\n",
    "            x = l*random.random() + (j-1)/m\n",
    "            prom = prom + g(x)    \n",
    "    return prom/N"
   ]
  },
  {
   "cell_type": "markdown",
   "id": "18e279d6",
   "metadata": {},
   "source": [
    "Cada uno de los metodos será ejecutado con un tamaño de muestra $n=1000$, a esto se le considerará un único experimento de cada método.\n",
    "\n",
    "Además, para poder trabajar un intervalo de confianza de los resultados de cada método, serán ejecutados $N=100$ experimentos de cada uno de ellos. Esto lo realizamos con la siguiente función."
   ]
  },
  {
   "cell_type": "code",
   "execution_count": 18,
   "id": "5b63515b",
   "metadata": {},
   "outputs": [],
   "source": [
    "def simulacion_metodos(N):\n",
    "    n_experimentos=1000\n",
    "    l1 = []\n",
    "    l2 = []\n",
    "    l3 = []\n",
    "    l4 = []\n",
    "    \n",
    "    #Acierto y error\n",
    "    for i in range(N):\n",
    "        l1.append(acierto_error(n_experimentos))\n",
    "        \n",
    "    #Media muestral\n",
    "    for i in range(N):\n",
    "        l2.append(media_muestral(n_experimentos))\n",
    "        \n",
    "    #Muestreo importancia\n",
    "    for i in range(N):\n",
    "        l3.append(importancia(n_experimentos))\n",
    "        \n",
    "    #Estratificado\n",
    "    for i in range(N):\n",
    "        l4.append(estratificado(n_experimentos))\n",
    "        \n",
    "    return l1,l2,l3,l4"
   ]
  },
  {
   "cell_type": "markdown",
   "id": "7ba48fce",
   "metadata": {},
   "source": [
    "Simulamos el valor de integral con cada uno de los métodos. "
   ]
  },
  {
   "cell_type": "code",
   "execution_count": 19,
   "id": "becad214",
   "metadata": {},
   "outputs": [],
   "source": [
    "#Funcion de la cual se quiere conocer la integral\n",
    "def g(x):\n",
    "    return ((math.exp(x)-1)/(math.exp(1)-1))\n",
    "\n",
    "#Densidad que se utiliza para el metodo de muestreo importacia.  \n",
    "#NOTA: En este caso se propuso como funcion de desidad la recta y=c*x, donde c toma el valor de 2. Los calculos\n",
    "#necesarios para la eleccion de este valor se presentan al final del notebook.\n",
    "def f(x):\n",
    "    return 2*x"
   ]
  },
  {
   "cell_type": "code",
   "execution_count": 20,
   "id": "684263f9",
   "metadata": {},
   "outputs": [],
   "source": [
    "N = 500\n",
    "#Cada una de las listas contiene 1000 experimentos de cada método.\n",
    "(l1,l2,l3,l4) = simulacion_metodos(N)"
   ]
  },
  {
   "cell_type": "markdown",
   "id": "beb98929",
   "metadata": {},
   "source": [
    "Hallamos el valor medio de cada simulación, esto es, cada una de las aproximaciones que se obtuvieron a la integral."
   ]
  },
  {
   "cell_type": "code",
   "execution_count": 21,
   "id": "d7b8c28b",
   "metadata": {},
   "outputs": [],
   "source": [
    "valor1 = np.mean(l1)\n",
    "valor2 = np.mean(l2)\n",
    "valor3 = np.mean(l3)\n",
    "valor4 = np.mean(l4)"
   ]
  },
  {
   "cell_type": "markdown",
   "id": "97f981e8",
   "metadata": {},
   "source": [
    "Cálculo de las varianzas obtenidas en cada método."
   ]
  },
  {
   "cell_type": "code",
   "execution_count": 22,
   "id": "5c61f50a",
   "metadata": {},
   "outputs": [],
   "source": [
    "var1 = np.var(l1)\n",
    "var2 = np.var(l2)\n",
    "var3 = np.var(l3)\n",
    "var4 = np.var(l4)"
   ]
  },
  {
   "cell_type": "markdown",
   "id": "61ed00ae",
   "metadata": {},
   "source": [
    "Presentación de resultados"
   ]
  },
  {
   "cell_type": "code",
   "execution_count": 23,
   "id": "bbd0d348",
   "metadata": {},
   "outputs": [],
   "source": [
    "import pandas as pd"
   ]
  },
  {
   "cell_type": "code",
   "execution_count": 24,
   "id": "f789ab4b",
   "metadata": {},
   "outputs": [
    {
     "data": {
      "text/html": [
       "<div>\n",
       "<style scoped>\n",
       "    .dataframe tbody tr th:only-of-type {\n",
       "        vertical-align: middle;\n",
       "    }\n",
       "\n",
       "    .dataframe tbody tr th {\n",
       "        vertical-align: top;\n",
       "    }\n",
       "\n",
       "    .dataframe thead th {\n",
       "        text-align: right;\n",
       "    }\n",
       "</style>\n",
       "<table border=\"1\" class=\"dataframe\">\n",
       "  <thead>\n",
       "    <tr style=\"text-align: right;\">\n",
       "      <th></th>\n",
       "      <th>Método</th>\n",
       "      <th>Aprox Int</th>\n",
       "      <th>Comparación de varianzas</th>\n",
       "    </tr>\n",
       "  </thead>\n",
       "  <tbody>\n",
       "    <tr>\n",
       "      <th>0</th>\n",
       "      <td>Acierto y error</td>\n",
       "      <td>0.417554</td>\n",
       "      <td>389.564061</td>\n",
       "    </tr>\n",
       "    <tr>\n",
       "      <th>1</th>\n",
       "      <td>Media muestra</td>\n",
       "      <td>0.417989</td>\n",
       "      <td>100.539840</td>\n",
       "    </tr>\n",
       "    <tr>\n",
       "      <th>2</th>\n",
       "      <td>Muestreo importancia</td>\n",
       "      <td>0.383559</td>\n",
       "      <td>4.398884</td>\n",
       "    </tr>\n",
       "    <tr>\n",
       "      <th>3</th>\n",
       "      <td>Muestreo estratificado</td>\n",
       "      <td>0.418037</td>\n",
       "      <td>1.000000</td>\n",
       "    </tr>\n",
       "  </tbody>\n",
       "</table>\n",
       "</div>"
      ],
      "text/plain": [
       "                   Método  Aprox Int  Comparación de varianzas\n",
       "0         Acierto y error   0.417554                389.564061\n",
       "1           Media muestra   0.417989                100.539840\n",
       "2    Muestreo importancia   0.383559                  4.398884\n",
       "3  Muestreo estratificado   0.418037                  1.000000"
      ]
     },
     "execution_count": 24,
     "metadata": {},
     "output_type": "execute_result"
    }
   ],
   "source": [
    "df={'Método':['Acierto y error','Media muestra','Muestreo importancia','Muestreo estratificado'],\n",
    "    'Aprox Int':[valor1, valor2, valor3, valor4],\n",
    "    'Comparación de varianzas':[var1/var4, var2/var4, var3/var4, var4/var4]}\n",
    "\n",
    "df=pd.DataFrame(df)\n",
    "\n",
    "df"
   ]
  }
 ],
 "metadata": {
  "kernelspec": {
   "display_name": "Python 3 (ipykernel)",
   "language": "python",
   "name": "python3"
  },
  "language_info": {
   "codemirror_mode": {
    "name": "ipython",
    "version": 3
   },
   "file_extension": ".py",
   "mimetype": "text/x-python",
   "name": "python",
   "nbconvert_exporter": "python",
   "pygments_lexer": "ipython3",
   "version": "3.11.7"
  }
 },
 "nbformat": 4,
 "nbformat_minor": 5
}
