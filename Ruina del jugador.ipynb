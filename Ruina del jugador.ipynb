{
 "cells": [
  {
   "cell_type": "markdown",
   "id": "4e130e4d",
   "metadata": {
    "colab_type": "text",
    "id": "view-in-github"
   },
   "source": [
    "<a href=\"https://colab.research.google.com/github/ErnestoTejeda7/Simulacion_II/blob/main/Unidad%20II/Lanzamiento_3_monedas.ipynb\" target=\"_parent\"><img src=\"https://colab.research.google.com/assets/colab-badge.svg\" alt=\"Open In Colab\"/></a>"
   ]
  },
  {
   "cell_type": "markdown",
   "id": "a5cc0a87",
   "metadata": {
    "id": "a5cc0a87"
   },
   "source": [
    "# Metodología de la Simulación"
   ]
  },
  {
   "cell_type": "markdown",
   "id": "a1ded1f1",
   "metadata": {},
   "source": [
    "## *RUINA DEL JUGADOR*"
   ]
  },
  {
   "cell_type": "markdown",
   "id": "0e218d98",
   "metadata": {
    "id": "0e218d98"
   },
   "source": [
    "### 1. Identifique las variables\n",
    "\n",
    "Aquellas cuyo comportamiento define el comportamiento o la evoución global del sistema real."
   ]
  },
  {
   "cell_type": "markdown",
   "id": "3ebcd0f2",
   "metadata": {
    "id": "3ebcd0f2"
   },
   "source": [
    "### 2. Determine la distribución de probabilidad\n",
    "\n",
    "Elija el tipo de distribución de probabilidad que mejor defina el comportamiento aleatorio de cada una de las variables del sistema identificadas en el paso anterior."
   ]
  },
  {
   "cell_type": "markdown",
   "id": "803801d5",
   "metadata": {
    "id": "803801d5"
   },
   "source": [
    "### 3. Modele las variables aleatorias\n",
    "\n",
    "Cosntruya un modelo fiel de la aleatoriedad de las variables del sistema. Simular el comportamiento del sistema implica generar muestras aleatorias de cada variable que sigan fielmente la distribución de probabilidad correspondiente."
   ]
  },
  {
   "cell_type": "markdown",
   "id": "33709223",
   "metadata": {
    "id": "33709223"
   },
   "source": [
    "### 4. Defina el modelo del sistema y los objetivos de la simulación\n",
    "\n",
    "Fije los objetivos y diseñe un modelo del sistema real que abstraiga sus propiedades más relevantes. Todo error en el modelo (o su implementación computacional) puede dar lugar a conclusiones equivocadas.\n",
    "\n",
    "Antes de experimentar con el modelo, asegurarse de que refleja fielmente el sistema real **validando** el mismo a partir de datos reales, para ello compare los resultados obtenidos de la simulación con los producidos por el sistema."
   ]
  },
  {
   "cell_type": "markdown",
   "id": "7f853065",
   "metadata": {
    "id": "7f853065"
   },
   "source": [
    "### 5. Diseñe el experimento\n",
    "\n",
    "Diseñe un experimento así como las ejecuciones concretas del mismo, los escenarios que desea estudiar para alcanzar los objetivos fijados. El experimento consiste en generar valores de las variables cuyo comportamiento define el comportamiento del sistema y analizar este ante dichos valores."
   ]
  },
  {
   "cell_type": "markdown",
   "id": "15ae61c8",
   "metadata": {
    "id": "15ae61c8"
   },
   "source": [
    "### 6. Repita el experimento $n$ veces\n",
    "\n",
    "Así dispondrá de $n$ observaciones sobre el comportamiento del sistema, lo que permitirá entender su funcionamiento así como evaluar el desempeño del mismo frente a los diversos escenarios establecidos.\n",
    "\n",
    "El **método Monte Carlo** se basa en la **Ley Fuerte de los Grandes Números** y el **Teorema del Límite Central**."
   ]
  },
  {
   "cell_type": "markdown",
   "id": "51ce3fa1",
   "metadata": {
    "id": "51ce3fa1"
   },
   "source": [
    "## Ejemplo\n",
    "\n",
    "Calcule la probabilidad de que aparezcan dos caras lanzando tres veces una moneda al aire.\n",
    "\n",
    "1. Analíticamente.\n",
    "2. Mediante simulación."
   ]
  },
  {
   "cell_type": "markdown",
   "id": "6f1b4105",
   "metadata": {
    "id": "6f1b4105"
   },
   "source": [
    "### Analiticamente:"
   ]
  },
  {
   "cell_type": "markdown",
   "id": "american-personality",
   "metadata": {},
   "source": [
    "##### a)Probabilidad de ruina \n",
    "\n",
    "Sabemos que de los 6 estados, {0,1,2,3,4,5}, 4 de ellos son transitorios, es decir {1,2,3,4} en el que el proceso solo visita estos estados un número finito de veces y despues de cierto tiempo el jugador 1 ganara al jugador 2 y se quedara con %$5$, o por el contrario perdera todo su capital quedando en %$0$.\n",
    "\n",
    "Ahora bien, sea $P_i$ con $i=0,1,2,3,...,N$, la probabilidad de iniciar con una fortuna $i$ y vencer al jugador 2, es decir, obtener una fortuna de $N$ unidades monetarias. Esta probabilidad satisface la siguiente ecuacion diferencial:\n",
    "\\begin{gather*}\n",
    "\\forall i=0,1,2,3,...,5 \\qquad P_i=pP_{i+1}+qP_{i-1}\n",
    "\\end{gather*}\n",
    "\n",
    "donde $q=1-p$ , y de aqui dado que $pP_i+ 1P_i=pP_{i+1}+qP_{i-1}$\n",
    "\n",
    "\\begin{gather*}\n",
    "\\implies pP_{i+1}-pP_i=qP_i -qP_{i-1} \\\\ \n",
    "\\implies P_{i+1}-\\left(1+\\frac{q}{p}\\right)P_i+  \\frac{q}{p} P_{i-1}=0\n",
    "\\end{gather*}\n",
    "\n",
    "Hemos contruido una relación de recurrencia con las condiciones de frontera, $P_0=0$ y $P_N=1$ los cuales son estados absorbentes, es decir estados de los cuales no se puede salir. Entonces queda resolver la ecuación siguiente \n",
    "\n",
    "\\begin{gather*}\n",
    " P_{i+1}-\\left(1+\\frac{q}{p}\\right)P_i+  \\frac{q}{p} P_{i-1}=0 , \\qquad P_0=0, P_N=1\n",
    "\\end{gather*}\n",
    "\n",
    "Entonces, suponemos que la solución es de la forma $P_i=cr^i$, obtenemos la siguiente ecuación a resolver \n",
    "\n",
    "\\begin{gather*}\n",
    " \\left[r^2-\\left(1+\\frac{q}{p}\\right)r+ \\frac{q}{p}\\right]cr^{i-2}=0\n",
    "\\end{gather*}\n",
    "\n",
    "y cuando $p \\neq \\frac{1}{2}$ la solución es de la siguiente forma:\n",
    "\n",
    "\\begin{gather*}\n",
    " P_i=\\alpha+\\beta \\left(\\frac{q}{p} \\right)^i, \\qquad P_0=0, P_N=1\n",
    "\\end{gather*}\n",
    "\n",
    "Y con las condiciones de frontera obtener el valor de las constantes\n",
    "\n",
    "\\begin{gather*}\n",
    " \\alpha=\\frac{1}{1-\\left(\\frac{q}{p} \\right)^N} \\qquad \\beta=\\frac{1}{\\left(\\frac{q}{p} \\right)^N-1}\n",
    "\\end{gather*}\n",
    "\n",
    "Donde finalmente obtenemos que\n",
    "\n",
    "\\begin{gather*}\n",
    "P_i=\\frac{1-\\left(\\frac{q}{p} \\right)^i}{1-\\left(\\frac{q}{p} \\right)^N}\n",
    "\\end{gather*}\n",
    "\n",
    "Por otra parte si consideramos que $p=\\frac{1}{2}$ entonces $\\frac{q}{p}=1$, lo que nos lleva a la solución de la forma: \n",
    "\n",
    "\\begin{gather*}\n",
    "P_i=\\alpha + i\\beta, \\qquad P_0=0, P_N=1\n",
    "\\end{gather*}\n",
    "\n",
    "que de acuerdo a las condiciones de frontera, se obtiene que las constantes se encuentran dadas por\n",
    "\n",
    "\\begin{gather*}\n",
    "\\alpha=0 \\qquad \\beta=\\frac{1}{N}\n",
    "\\end{gather*}\n",
    "\n",
    "Entonces la solución de la relación de recurrencia es \n",
    "\n",
    "\\begin{gather*}\n",
    "P_i=\\frac{i}{N}\n",
    "\\end{gather*}\n",
    "\n",
    "De los dos casos anteriores podemos reescribir la solución con la siguiente expresión\n",
    "\n",
    "<div style=\"text-align: center;\">\n",
    "$P_i=\\begin{cases}\n",
    "    \\begin{gather*}\n",
    "\\frac{1-\\left(\\frac{q}{p} \\right)^i}{1-\\left(\\frac{q}{p} \\right)^N}\n",
    "\\end{gather*}, & \\text{si } p \\neq \\frac{1}{2} \\\\\n",
    "    \\frac{i}{N}, & \\text{si }p=\\frac{1}{2}\n",
    "\\end{cases}$\n",
    "</div>\n",
    "\n",
    "Para nuestro caso suponemos una moneda justa, es decir $p=\\frac{1}{2}$, con $i=2$ y $N=5$, entonces la probabilidad de terminar en ruina es \n",
    "\n",
    "\\begin{gather*}\n",
    "P(ruina)=1-P_i\\\\\n",
    "P(ruina)=1-\\frac{2}{5}\\\\\n",
    "P(ruina)=\\frac{3}{5}\\\\\n",
    "P(ruina)=0.6\n",
    "\\end{gather*}\n",
    "\n"
   ]
  },
  {
   "cell_type": "markdown",
   "id": "simplified-trance",
   "metadata": {},
   "source": [
    "#### c)probabilidad de ruina contra un adversario infinitamente rico\n",
    "\n",
    "Resolver este problema, es analogo a encontrar la probabilidad de terminar con una fortuna $N$ cuando $N$ tiene a infinito, es decir \n",
    "\n",
    "\\begin{gather*}\n",
    "\\lim_{{N \\to \\infty}} P_i\n",
    "\\end{gather*}\n",
    "\n",
    "para $p=\\frac{1}{2}$ esto es \n",
    "\n",
    "\n",
    "\\begin{gather*}\n",
    "\\lim_{{N \\to \\infty}} \\frac{i}{N}\n",
    "\\end{gather*}\n",
    "\n",
    " y considerando que $i=2$, obtenemos que\n",
    " \n",
    "\\begin{gather*}\n",
    "\\lim_{{N \\to \\infty}} \\frac{2}{N} = 0 \n",
    "\\end{gather*}\n",
    "\n",
    "entonces \n",
    "\n",
    "\\begin{gather*}\n",
    "P(ruina)= 1- \\lim_{{N \\to \\infty}} \\frac{2}{N} \\\\\n",
    "P(ruina)= 1- 0\\\\\n",
    "P(ruina)=1\n",
    "\\end{gather*}\n",
    "\n",
    "que corresponde  a la probabilidad de terminar en ruina contra un rival infinitamente rico."
   ]
  },
  {
   "cell_type": "markdown",
   "id": "plain-adult",
   "metadata": {},
   "source": [
    "#### d)duracion esperada del juego\n",
    "\n",
    "Recordando que una cadena de Markov se llamara absorbente si por lo menos tiene un estado absorbente.\n",
    "Consideremos una cadena de Markov absorbente con espacio de estado finito, dado por $n$, de los cuales $t$ estados son transitorios y $n-t$ estados son absorbentes, por lo que podemos ordenar la matriz a fin de que tenga la siguiente forma:\n",
    "\n",
    "$\n",
    "P =\\left[\n",
    "\\begin{array}{c|c}\n",
    "    Q & R \\\\\n",
    "    \\hline\n",
    "    0 & I\n",
    "\\end{array}\\right]\n",
    "$\n",
    "\n",
    "donde $Q$ es una matriz de $t \\times t $, $R$ es una matriz de $t \\times (n-t) $ y finalmente la matriz $I$ es una matriz identidad  $(n-t) \\times (n-t) $, esto lo hacemos para calcular la potencia de la matriz de manera más sencilla.\n",
    "\n",
    "$\n",
    "P^2 =\\left[\n",
    "\\begin{array}{c|c}\n",
    "    Q & R \\\\\n",
    "    \\hline\n",
    "    0 & I\n",
    "\\end{array}\\right] \n",
    "\\left[\n",
    "\\begin{array}{c|c}\n",
    "    Q & R \\\\\n",
    "    \\hline\n",
    "    0 & I\n",
    "\\end{array}\\right] = \\left[\n",
    "\\begin{array}{c|c}\n",
    "    Q^2 & (1+Q)R \\\\\n",
    "    \\hline\n",
    "    0 & I\n",
    "\\end{array}\\right]\n",
    "$\n",
    "\n",
    "$\n",
    "P^3 = \\left[\n",
    "\\begin{array}{c|c}\n",
    "    Q^2 & (1+Q)R \\\\\n",
    "    \\hline\n",
    "    0 & I\n",
    "\\end{array}\\right] \\left[\n",
    "\\begin{array}{c|c}\n",
    "    Q & R \\\\\n",
    "    \\hline\n",
    "    0 & I\n",
    "\\end{array}\\right]  = \\left[\n",
    "\\begin{array}{c|c}\n",
    "    Q^3 & (1+Q+Q^2)R \\\\\n",
    "    \\hline\n",
    "    0 & I\n",
    "\\end{array}\\right] \n",
    "$\n",
    "\n",
    "De esta forma, la $n$-ésima potencia se encuentra dada por\n",
    "\n",
    "$\n",
    "P^n = \\left[\n",
    "\\begin{array}{c|c}\n",
    "    Q^N & (1+Q+Q^2+ \\cdots+ Q^{n-1})R \\\\\n",
    "    \\hline\n",
    "    0 & I\n",
    "\\end{array}\\right] \n",
    "$\n",
    "\n",
    "ahora analizaremos el comporamiento a largo plazo usando algébra lineal.\n",
    "\n",
    "Una matriz cuadrada con la propiedad de que $A^n \\rightarrow 0$ cuando $n \\rightarrow \\infty$, entonces\n",
    "\n",
    "\\begin{gather*}\n",
    "\\sum_{n=0}^{\\infty} A^n=(1-A)^{-1}\n",
    "\\end{gather*}\n",
    "\n",
    "a partir del resultado anterior sabemos que entonces\n",
    "\n",
    "\\begin{gather*}\n",
    "\\lim_{{n \\to \\infty}} A^n = \\lim_{{n \\to \\infty}} \\left[\n",
    "\\begin{array}{c|c}\n",
    "    0 & (1-Q)^{-1}R \\\\\n",
    "    \\hline\n",
    "    0 & I\n",
    "\\end{array}\\right] \n",
    "\\end{gather*}\n",
    "\n",
    "donde la submatriz límite $(1-Q)^{-1}R$ denota la probabilidad a largo plazo de que la cadena entre al estado absorbente $j$, dado que salió del estado transitorio $i$, conocido como la matriz fundamental, del cual podemos escribir el siguiente teorema.\n",
    "\n",
    "$ \\textbf{Teorema. Número esperado de visitas para estados transitorios} $: Considere una cadena de Markov absorbente con $t$ estados transitorios y sea $S$ una matriz de tamaño $t \\times t$ indexada por estados transitorios, donde $S_{ij}$ denota el número esperado de visitas al estado $j$ dado que la cadena inicia en el estado $i$, entonces \n",
    "\n",
    "\\begin{gather*}\n",
    "S=(I-Q)^{-1}\n",
    "\\end{gather*}\n",
    "\n",
    "Entonces obtendremos este resultado usando python para los cálculos:"
   ]
  },
  {
   "cell_type": "code",
   "execution_count": 19,
   "id": "sitting-squad",
   "metadata": {},
   "outputs": [
    {
     "name": "stdout",
     "output_type": "stream",
     "text": [
      "S= [[1.6 1.2 0.8 0.4]\n",
      " [1.2 2.4 1.6 0.8]\n",
      " [0.8 1.6 2.4 1.2]\n",
      " [0.4 0.8 1.2 1.6]]\n"
     ]
    }
   ],
   "source": [
    "import numpy as np\n",
    "import random\n",
    "\n",
    "#definimos las probabilidades\n",
    "p = 1/2\n",
    "q = 1/2\n",
    "\n",
    "#construimos la matriz P\n",
    "P = np.array([\n",
    "    [0,p,0,0,p,0],\n",
    "    [q,0,p,0,0,0],\n",
    "    [0,q,0,p,0,0],\n",
    "    [0,0,q,0,0,p],\n",
    "    [0,0,0,0,1,0],\n",
    "    [0,0,0,0,0,1]\n",
    "])\n",
    "\n",
    "#obtenemos las submatrices Q y R\n",
    "Q = P[0:4,0:4]\n",
    "R = P[0:4,4:]\n",
    "\n",
    "#calculamos la matriz S\n",
    "S=np.linalg.inv(np.eye(4)-Q)\n",
    "print(\"S=\",S)"
   ]
  },
  {
   "cell_type": "markdown",
   "id": "reserved-influence",
   "metadata": {},
   "source": [
    "Al sumar las entradas de la fila 2 (correspondiente al estado \"2 monedas\") obtenemos la cantidad de transiciones esperadas que el proceso realiza antes de llegar a algún estado absorbente dado que empezó en el estado 2."
   ]
  },
  {
   "cell_type": "code",
   "execution_count": 21,
   "id": "printable-lancaster",
   "metadata": {},
   "outputs": [
    {
     "data": {
      "text/plain": [
       "5.999999999999999"
      ]
     },
     "execution_count": 21,
     "metadata": {},
     "output_type": "execute_result"
    }
   ],
   "source": [
    "S[1].sum()"
   ]
  },
  {
   "cell_type": "markdown",
   "id": "unable-kruger",
   "metadata": {},
   "source": [
    "Este resultado corresponde al número esperado de juegos, antes de que el jugador 1, llegue a un estado absorbente, es decir 0 o 5."
   ]
  },
  {
   "cell_type": "markdown",
   "id": "arctic-employee",
   "metadata": {},
   "source": [
    "#### b)Ganancia media\n",
    "Antes dijimos que la submatriz límite $(1-Q)^{-1}R$ denota la probabilidad a largo plazo de que la cadena entre al estado absorbente $j$, dado que salió del estado transitorio $i$, calculamos este producto un python con la matriz S ya calculada anteriormente.\n"
   ]
  },
  {
   "cell_type": "code",
   "execution_count": 29,
   "id": "outdoor-pound",
   "metadata": {},
   "outputs": [
    {
     "data": {
      "text/plain": [
       "array([[0.8, 0.2],\n",
       "       [0.6, 0.4],\n",
       "       [0.4, 0.6],\n",
       "       [0.2, 0.8]])"
      ]
     },
     "execution_count": 29,
     "metadata": {},
     "output_type": "execute_result"
    }
   ],
   "source": [
    "Pabsorcion = S@R # producto de matriz S x R\n",
    "Pabsorcion"
   ]
  },
  {
   "cell_type": "markdown",
   "id": "sublime-imaging",
   "metadata": {},
   "source": [
    "Podemos notar que si comenzamos en el estado 2, la prob de ganar el juego es $0.4$ y la prob de ruina es $0.6$. Luego, la ganancia esperada del juego dado que comenzamos en el estado $2$ sin considerar la inversión inicial se calcula de la sig. manera:\n",
    "\n",
    "$$E\\ [ganancia_{sin}]\\ =\\ (0.4)5+(0.6)0\\ =\\ \\$2$$\n",
    "\n",
    "y ahora considerando los \\$2 con los que iniciamos entonces la ganancia que tenemos es\n",
    "\n",
    "$$E\\ [ganancia]\\ =\\ \\$2 - \\$2= \\$0 $$"
   ]
  },
  {
   "cell_type": "markdown",
   "id": "564ca694",
   "metadata": {
    "id": "564ca694"
   },
   "source": [
    "### Por simulación: \n",
    "Construimos el modelo en varios pasos."
   ]
  },
  {
   "cell_type": "markdown",
   "id": "fbbc8571",
   "metadata": {
    "id": "fbbc8571"
   },
   "source": [
    "**PASO 1**. Defina las variables que intervienen en el modelo.\n",
    "\n",
    "Para cada volado, la v.a. que indica si el jugador gana una moneda se disbribuye como una $Bernulli(p)$.\n",
    "El juego completo se puede puede representar como un proceso estocástico cuya matriz de tansición es la siguiente:\n",
    "\n",
    "\\begin{equation}\n",
    "\\begin{bmatrix}\n",
    "1 & 0 & 0 & 0 & 0 & 0  \\\\\n",
    "1-p & 0 & p & 0 & 0 & 0\\\\\n",
    "0 & 1-p & 0 & p & 0 & 0\\\\\n",
    "0 & 0 & 1-p & 0 & p & 0\\\\\n",
    "0 & 0 & 0 & 1-p & 0 & p \\\\\n",
    "0 & 0 & 0 & 0 & 0 & 1\\\\\n",
    "\\end{bmatrix}\n",
    "\\end{equation}"
   ]
  },
  {
   "cell_type": "markdown",
   "id": "4d3899f3",
   "metadata": {
    "id": "4d3899f3"
   },
   "source": [
    "**PASO 2**. Formule la distribución de probabilidad de cada variable."
   ]
  },
  {
   "cell_type": "markdown",
   "id": "fd02116a",
   "metadata": {
    "id": "fd02116a"
   },
   "source": [
    "**PASO 3**. Enumere la distribución acumulada de probabilidad de cada variable."
   ]
  },
  {
   "cell_type": "markdown",
   "id": "4852dcac",
   "metadata": {
    "id": "4852dcac"
   },
   "source": [
    "**PASO 4**. Establezca el intervalo de números aleatorios correspondiente a cada valor de cada una de las variables."
   ]
  },
  {
   "cell_type": "markdown",
   "id": "edb6b074",
   "metadata": {
    "id": "edb6b074"
   },
   "source": [
    "**PASO 5**. Genere números aleatorios."
   ]
  },
  {
   "cell_type": "code",
   "execution_count": null,
   "id": "7d56c432",
   "metadata": {
    "id": "7d56c432"
   },
   "outputs": [],
   "source": []
  },
  {
   "cell_type": "markdown",
   "id": "f38f3396",
   "metadata": {
    "id": "f38f3396"
   },
   "source": [
    "**PASO 6**. Simule un lanzamiento."
   ]
  },
  {
   "cell_type": "markdown",
   "id": "d270399e",
   "metadata": {
    "id": "d270399e"
   },
   "source": [
    "**PASO 7**. Obtenga la gráfica de estabilización que indica que el tamaño de muestra utilizado es suficiente para\n",
    "garantizar la convergencia del resultado."
   ]
  },
  {
   "cell_type": "code",
   "execution_count": 1,
   "id": "2fd22e33",
   "metadata": {
    "id": "2fd22e33"
   },
   "outputs": [],
   "source": [
    "import numpy as np\n",
    "import random\n",
    "import matplotlib.pyplot as plt\n",
    "import math"
   ]
  },
  {
   "cell_type": "code",
   "execution_count": 2,
   "id": "ee34f570",
   "metadata": {},
   "outputs": [],
   "source": [
    "def ruina_j(grafica,m1=2,m2=3, p=0.5):\n",
    "    ganancia=m1 \n",
    "    m_total=m1+m2 \n",
    "    cuenta_volds=0 \n",
    "    lgan=[ganancia]\n",
    "    \n",
    "    while ganancia>0 and ganancia<m_total:\n",
    "        if random.random()<p:\n",
    "            ganancia += 1 \n",
    "        else:\n",
    "            ganancia -= 1 \n",
    "        cuenta_volds +=1 \n",
    "        if grafica==0:\n",
    "            lgan.append(ganancia)\n",
    "            \n",
    "\n",
    "    return ganancia, cuenta_volds, lgan\n",
    "    "
   ]
  },
  {
   "cell_type": "code",
   "execution_count": 3,
   "id": "24598459",
   "metadata": {},
   "outputs": [],
   "source": [
    "def simu_ruina_j(N,m1=2,m2=3,p=0.5):\n",
    "    lgananacia=[]\n",
    "    lvolados=[]\n",
    "    lruina=[]\n",
    "    sumag=0\n",
    "    sumav=0\n",
    "    ruina=0\n",
    "    \n",
    "    \n",
    "    for i in range(N):\n",
    "        (ganancia, cuenta_volds, l)=ruina_j(i, m1, m2, p)\n",
    "        #La sig. condicion indicara en cada juego si el juegador gana o queda en ruina\n",
    "        if ganancia==0:\n",
    "            ruina+=1\n",
    "        \n",
    "        #El condicional sirve para saber si graficar o no el juego\n",
    "        if i==0:\n",
    "            lgan=l\n",
    "            \n",
    "        sumag=sumag+ganancia\n",
    "        sumav=sumav+cuenta_volds\n",
    "        \n",
    "        lgananacia.append((sumag)/(i+1))\n",
    "        lvolados.append((sumav)/(i+1))\n",
    "        lruina.append(ruina/(i+1))\n",
    "        \n",
    "    return lgananacia, lvolados, lruina, lgan"
   ]
  },
  {
   "cell_type": "code",
   "execution_count": 4,
   "id": "f9c8d017",
   "metadata": {
    "scrolled": false
   },
   "outputs": [],
   "source": [
    "N=10000\n",
    "(lganancia, lvolados, lruina, lgan)=simu_ruina_j(N,m1=2,m2=3,p=0.5)"
   ]
  },
  {
   "cell_type": "code",
   "execution_count": 5,
   "id": "2469d9c9",
   "metadata": {},
   "outputs": [
    {
     "data": {
      "image/png": "[encoded data removed]",
      "text/plain": [
       "<Figure size 432x288 with 1 Axes>"
      ]
     },
     "metadata": {
      "needs_background": "light"
     },
     "output_type": "display_data"
    }
   ],
   "source": [
    "plt.plot(lgan)\n",
    "plt.title('Gráfica de un solo juego')\n",
    "plt.show()"
   ]
  },
  {
   "cell_type": "code",
   "execution_count": 31,
   "id": "d4f8fb9b",
   "metadata": {
    "scrolled": true
   },
   "outputs": [
    {
     "name": "stdout",
     "output_type": "stream",
     "text": [
      "Ganancia esperada sin considerar la inversión inicial: 2.03\n",
      "Ganancia esperada considerando la inversión inicial: 0.029999999999999805\n",
      "Nunero de juegos esperados:  6.0046\n",
      "Probabilida estimada de ruina:  0.594\n"
     ]
    }
   ],
   "source": [
    "print(\"Ganancia esperada sin considerar la inversión inicial:\", lganancia[-1])\n",
    "print(\"Ganancia esperada considerando la inversión inicial:\", lganancia[-1] - 2)\n",
    "print(\"Nunero de juegos esperados: \", lvolados[-1])\n",
    "print(\"Probabilida estimada de ruina: \", lruina[-1])"
   ]
  },
  {
   "cell_type": "code",
   "execution_count": 7,
   "id": "ef68f87c",
   "metadata": {
    "colab": {
     "base_uri": "https://localhost:8080/",
     "height": 472
    },
    "id": "ef68f87c",
    "outputId": "1af552e6-9018-410a-c9cb-800d5b726ac6"
   },
   "outputs": [
    {
     "data": {
      "image/png": "[encoded data removed]",
      "text/plain": [
       "<Figure size 432x288 with 1 Axes>"
      ]
     },
     "metadata": {
      "needs_background": "light"
     },
     "output_type": "display_data"
    },
    {
     "data": {
      "image/png": "[encoded data removed]",
      "text/plain": [
       "<Figure size 432x288 with 1 Axes>"
      ]
     },
     "metadata": {
      "needs_background": "light"
     },
     "output_type": "display_data"
    },
    {
     "data": {
      "image/png": "[encoded data removed]",
      "text/plain": [
       "<Figure size 432x288 with 1 Axes>"
      ]
     },
     "metadata": {
      "needs_background": "light"
     },
     "output_type": "display_data"
    }
   ],
   "source": [
    "plt.plot(lganancia)\n",
    "plt.xlabel('iteraciones')\n",
    "plt.ylabel('Ganancia esperada')\n",
    "plt.title('Ganancia esperada del juego')\n",
    "plt.show()\n",
    "\n",
    "plt.plot(lvolados)\n",
    "plt.xlabel('iteraciones')\n",
    "plt.ylabel('Juegos esperados')\n",
    "plt.title('Cantidad de juegos esperados')\n",
    "plt.show()\n",
    "\n",
    "plt.plot(lruina)\n",
    "plt.xlabel('iteraciones')\n",
    "plt.ylabel('p')\n",
    "plt.title('Probabilidad de ruina estimada')\n",
    "plt.show()"
   ]
  },
  {
   "cell_type": "markdown",
   "id": "f596fcd1",
   "metadata": {
    "id": "f596fcd1"
   },
   "source": [
    "**PASO 8**. Replique el modelo."
   ]
  },
  {
   "cell_type": "code",
   "execution_count": 8,
   "id": "b237f0d0",
   "metadata": {
    "id": "b237f0d0"
   },
   "outputs": [],
   "source": [
    "def simu2_ruina_j(N,M):\n",
    "    #lista con las ganancia esperada de cada experimento\n",
    "    Listag = []\n",
    "    \n",
    "    #lista con la cantidad de juegos esperados de cada experimento\n",
    "    Listav = []\n",
    "    \n",
    "    #lista con la prob de ruina de cada experimento\n",
    "    Listap = []\n",
    "    \n",
    "    for i in range(M):\n",
    "        Listag.append(simu_ruina_j(N,m1=2,m2=3,p=0.5)[0][-1])\n",
    "        Listav.append(simu_ruina_j(N,m1=2,m2=3,p=0.5)[1][-1])\n",
    "        Listap.append(simu_ruina_j(N,m1=2,m2=3,p=0.5)[2][-1])\n",
    "    return Listag, Listav, Listap"
   ]
  },
  {
   "cell_type": "code",
   "execution_count": 9,
   "id": "d060db89",
   "metadata": {
    "id": "d060db89"
   },
   "outputs": [],
   "source": [
    "N=1000\n",
    "M=1000\n",
    "Listag, Listav, Listap = simu2_ruina_j(N,M)"
   ]
  },
  {
   "cell_type": "code",
   "execution_count": 10,
   "id": "cc0b958d",
   "metadata": {
    "colab": {
     "base_uri": "https://localhost:8080/",
     "height": 472
    },
    "id": "cc0b958d",
    "outputId": "116144a4-1873-435c-dda0-a019078c2959"
   },
   "outputs": [
    {
     "data": {
      "image/png": "[encoded data removed]",
      "text/plain": [
       "<Figure size 432x288 with 1 Axes>"
      ]
     },
     "metadata": {
      "needs_background": "light"
     },
     "output_type": "display_data"
    },
    {
     "data": {
      "image/png": "[encoded data removed]",
      "text/plain": [
       "<Figure size 432x288 with 1 Axes>"
      ]
     },
     "metadata": {
      "needs_background": "light"
     },
     "output_type": "display_data"
    },
    {
     "data": {
      "image/png": "[encoded data removed]",
      "text/plain": [
       "<Figure size 432x288 with 1 Axes>"
      ]
     },
     "metadata": {
      "needs_background": "light"
     },
     "output_type": "display_data"
    }
   ],
   "source": [
    "plt.hist(Listag, bins=20)\n",
    "plt.xlabel('iteraciones')\n",
    "plt.ylabel('ganancia esperada')\n",
    "plt.title('Promedio de la ganancia esperada del juego')\n",
    "plt.show()\n",
    "\n",
    "plt.hist(Listav, bins=20)\n",
    "plt.xlabel('iteraciones')\n",
    "plt.ylabel('juegos esperados')\n",
    "plt.title('Promedio de la cantidad de juegos esperados')\n",
    "plt.show()\n",
    "\n",
    "plt.hist(Listap, bins=20)\n",
    "plt.xlabel('iteraciones')\n",
    "plt.ylabel('p')\n",
    "plt.title('Promedio de la prob. de ruina esperada')\n",
    "plt.show()"
   ]
  },
  {
   "cell_type": "markdown",
   "id": "6e9bd469",
   "metadata": {
    "id": "6e9bd469"
   },
   "source": [
    "**PASO 9**. Calcule la probabilidad de que aparezcan dos caras lanzando tres veces una moneda al aire y su desviación\n",
    "estándar."
   ]
  },
  {
   "cell_type": "code",
   "execution_count": 11,
   "id": "dbeb0461",
   "metadata": {
    "colab": {
     "base_uri": "https://localhost:8080/"
    },
    "id": "dbeb0461",
    "outputId": "f3edddcd-392d-419b-a9ee-12aff3645111"
   },
   "outputs": [],
   "source": [
    "mediag = np.mean(Listag); varg = np.var(Listag); desvg= np.std(Listag)\n",
    "mediav = np.mean(Listav); varv = np.var(Listav); desvv= np.std(Listav)\n",
    "mediap = np.mean(Listap); varp = np.var(Listap); desvp= np.std(Listap)\n",
    "#print(media, var, desv)"
   ]
  },
  {
   "cell_type": "markdown",
   "id": "db8776d2",
   "metadata": {
    "id": "db8776d2"
   },
   "source": [
    "**PASO 10**. Halle el intervalo de confianza para la Ganancia esperada en el juego con un nivel de confianza del $95 \\%$."
   ]
  },
  {
   "cell_type": "markdown",
   "id": "VGILJYyeNKab",
   "metadata": {
    "id": "VGILJYyeNKab"
   },
   "source": [
    "\\begin{equation*}\n",
    "\\overline{x}- Z_{\\frac{\\alpha}{2}}  \\cdot \\frac{S}{\\sqrt{N}} < \\mu < \\overline{x}+ Z_{\\frac{\\alpha}{2}}  \\cdot \\frac{S}{\\sqrt{N}}\n",
    "\\end{equation*}"
   ]
  },
  {
   "cell_type": "code",
   "execution_count": 12,
   "id": "e5132329",
   "metadata": {
    "colab": {
     "base_uri": "https://localhost:8080/"
    },
    "id": "e5132329",
    "outputId": "dc766c01-a31c-401a-e1a7-f86ca20af744"
   },
   "outputs": [
    {
     "name": "stdout",
     "output_type": "stream",
     "text": [
      "Ganancia:  1.9961606587529603 < μ_gan < 2.00563934124704 \n",
      "Con un 95% de confianza\n",
      "\n",
      "Cantidad juegos:  5.9990093721265785 < μ_juegos < 6.017768627873424 \n",
      "Con un 95% de confianza\n"
     ]
    }
   ],
   "source": [
    "from scipy.stats import norm #Importamos la libreria para poder obtener el valor de Z.\n",
    "alpha = 1 - 0.95 #Alpha es igual a 1 - la confianza del intervalo\n",
    "z_alpha_2 = norm.ppf(1-alpha / 2) #Mandamos a pedir el valor de Z para \\alpha/2, sabemos que si es el 95% de confienza, Z esta cercano al 1.96.\n",
    "l_inferior = mediag - z_alpha_2 * (desvg / math.sqrt(N)) #Sacamos limite inferior por la formula\n",
    "l_superior = mediag + z_alpha_2 * (desvg / math.sqrt(N)) #Sacamos limite superior por la formula\n",
    "print(\"Ganancia: \", l_inferior, \"< \\u03BC_gan <\", l_superior, \"\\nCon un 95% de confianza\") #El intervalo en donde se encuentra el valor real a una confienza del 95%\n",
    "\n",
    "l_inferior = mediav - z_alpha_2 * (desvv / math.sqrt(N))\n",
    "l_superior = mediav + z_alpha_2 * (desvv / math.sqrt(N)) \n",
    "print(\"\\nCantidad juegos: \", l_inferior, \"< \\u03BC_juegos <\", l_superior, \"\\nCon un 95% de confianza\")"
   ]
  },
  {
   "cell_type": "code",
   "execution_count": null,
   "id": "iKgM69-JNUgd",
   "metadata": {
    "id": "iKgM69-JNUgd"
   },
   "outputs": [],
   "source": []
  },
  {
   "cell_type": "code",
   "execution_count": null,
   "id": "9406114e",
   "metadata": {},
   "outputs": [],
   "source": []
  }
 ],
 "metadata": {
  "colab": {
   "include_colab_link": true,
   "provenance": []
  },
  "kernelspec": {
   "display_name": "Python 3",
   "language": "python",
   "name": "python3"
  },
  "language_info": {
   "codemirror_mode": {
    "name": "ipython",
    "version": 3
   },
   "file_extension": ".py",
   "mimetype": "text/x-python",
   "name": "python",
   "nbconvert_exporter": "python",
   "pygments_lexer": "ipython3",
   "version": "3.8.5"
  }
 },
 "nbformat": 4,
 "nbformat_minor": 5
}
