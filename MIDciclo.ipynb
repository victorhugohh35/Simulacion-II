{
  "nbformat": 4,
  "nbformat_minor": 0,
  "metadata": {
    "colab": {
      "provenance": [],
      "authorship_tag": "ABX9TyP1VW9bLruop97GP/O9BPVx",
      "include_colab_link": true
    },
    "kernelspec": {
      "name": "python3",
      "display_name": "Python 3"
    },
    "language_info": {
      "name": "python"
    }
  },
  "cells": [
    {
      "cell_type": "markdown",
      "metadata": {
        "id": "view-in-github",
        "colab_type": "text"
      },
      "source": [
        "<a href=\"https://colab.research.google.com/github/victorhugohh35/Simulacion-II/blob/main/MIDciclo.ipynb\" target=\"_parent\"><img src=\"https://colab.research.google.com/assets/colab-badge.svg\" alt=\"Open In Colab\"/></a>"
      ]
    },
    {
      "cell_type": "code",
      "execution_count": 1,
      "metadata": {
        "colab": {
          "base_uri": "https://localhost:8080/"
        },
        "id": "6XOfaolwwxbD",
        "outputId": "ceeae60e-aadf-45a5-e6c8-827794e81dcd"
      },
      "outputs": [
        {
          "output_type": "stream",
          "name": "stdout",
          "text": [
            "Para la semilla 12010034, los números comenzaron a ciclarse después de 1 ciclos.\n",
            "Para la semilla 12250034, los números comenzaron a ciclarse después de 1 ciclos.\n",
            "Para la semilla 12379234, los números comenzaron a ciclarse después de 1 ciclos.\n",
            "Para la semilla 12760034, los números comenzaron a ciclarse después de 1 ciclos.\n"
          ]
        }
      ],
      "source": [
        "#Mid Square Method(semillas con ciclo inmediato)\n",
        "#Victor Hugo Hernandez Hernandez\n",
        "semillas = range(12000134, 13000000, 100)\n",
        "i=0\n",
        "# Para cada semilla en el rango\n",
        "for semilla in semillas:\n",
        "    nums_aleatorios = []\n",
        "    nums_vistos = set()\n",
        "    contador = 0  # Contador para el número de ciclos\n",
        "\n",
        "    # Realizamos las iteraciones para cada semilla\n",
        "    while True:\n",
        "        digitos_medios = (semilla % 1000000) // 100\n",
        "        semilla_cuadrada = digitos_medios * digitos_medios\n",
        "        subrandom = semilla_cuadrada / 10000\n",
        "        random = subrandom / 10000\n",
        "\n",
        "        # Si el número ya ha sido visto detenemos el ciclo\n",
        "        if random in nums_vistos:\n",
        "            break\n",
        "\n",
        "        nums_vistos.add(random)\n",
        "        nums_aleatorios.append(random)\n",
        "\n",
        "        semilla = semilla_cuadrada\n",
        "        contador += 1  # Incrementa el contador\n",
        "    if contador == 1:\n",
        "        print(f\"Para la semilla {semillas[i]}, los números comenzaron a ciclarse después de {contador} ciclos.\")\n",
        "    i=i+1\n",
        ""
      ]
    }
  ]
}