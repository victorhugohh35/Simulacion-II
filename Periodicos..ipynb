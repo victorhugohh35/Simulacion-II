{
 "cells": [
  {
   "cell_type": "markdown",
   "id": "4366cf53",
   "metadata": {
    "colab_type": "text",
    "id": "view-in-github"
   },
   "source": [
    "<a href=\"https://colab.research.google.com/github/Cristvillanueva/Simulaci-n-II/blob/main/Unidad%20II/Metodolog%C3%ADa.ipynb\" target=\"_parent\"><img src=\"https://colab.research.google.com/assets/colab-badge.svg\" alt=\"Open In Colab\"/></a>"
   ]
  },
  {
   "cell_type": "markdown",
   "id": "a5cc0a87",
   "metadata": {
    "id": "a5cc0a87"
   },
   "source": [
    "# Simulación del beneficio promedio diario del puesto de periodicos"
   ]
  },
  {
   "cell_type": "markdown",
   "id": "0e218d98",
   "metadata": {
    "id": "0e218d98"
   },
   "source": [
    "### 1. Identifique las variables\n",
    "\n",
    "Aquellas cuyo comportamiento define el comportamiento o la evoución global del sistema real."
   ]
  },
  {
   "cell_type": "markdown",
   "id": "3ebcd0f2",
   "metadata": {
    "id": "3ebcd0f2"
   },
   "source": [
    "### 2. Determine la distribución de probabilidad\n",
    "\n",
    "Elija el tipo de distribución de probabilidad que mejor defina el comportamiento aleatorio de cada una de las variables del sistema identificadas en el paso anterior."
   ]
  },
  {
   "cell_type": "markdown",
   "id": "803801d5",
   "metadata": {
    "id": "803801d5"
   },
   "source": [
    "### 3. Modele las variables aleatorias\n",
    "\n",
    "Construya un modelo fiel de la aleatoriedad de las variables del sistema. Simular el comportamiento del sistema implica generar muestras aleatorias de cada variable que sigan fielmente la distribución de probabilidad correspondiente."
   ]
  },
  {
   "cell_type": "markdown",
   "id": "33709223",
   "metadata": {
    "id": "33709223"
   },
   "source": [
    "### 4. Defina el modelo del sistema y los objetivos de la simulación\n",
    "\n",
    "Fije los objetivos y diseñe un modelo del sistema real que abstraiga sus propiedades más relevantes. Todo error en el modelo (o su implementación computacional) puede dar lugar a conclusiones equivocadas.\n",
    "\n",
    "Antes de experimentar con el modelo, asegurarse de que refleja fielmente el sistema real **validando** el mismo a partir de datos reales, para ello compare los resultados obtenidos de la simulación con los producidos por el sistema."
   ]
  },
  {
   "cell_type": "markdown",
   "id": "7f853065",
   "metadata": {
    "id": "7f853065"
   },
   "source": [
    "### 5. Diseñe el experimento\n",
    "\n",
    "Diseñe un experimento así como las ejecuciones concretas del mismo, los escenarios que desea estudiar para alcanzar los objetivos fijados. El experimento consiste en generar valores de las variables cuyo comportamiento define el comportamiento del sistema y analizar este ante dichos valores."
   ]
  },
  {
   "cell_type": "markdown",
   "id": "15ae61c8",
   "metadata": {
    "id": "15ae61c8"
   },
   "source": [
    "### 6. Repita el experimento $n$ veces\n",
    "\n",
    "Así dispondrá de $n$ observaciones sobre el comportamiento del sistema, lo que permitirá entender su funcionamiento así como evaluar el desempeño del mismo frente a los diversos escenarios establecidos.\n",
    "\n",
    "El **método Monte Carlo** se basa en la **Ley Fuerte de los Grandes Números** y el **Teorema del Límite Central**."
   ]
  },
  {
   "cell_type": "markdown",
   "id": "51ce3fa1",
   "metadata": {
    "id": "51ce3fa1"
   },
   "source": [
    "## Ejercicio\n",
    "\n",
    "Un comerciante vende periodicos a $\\$11$ pesos cada uno. Cada periodico le cuesta al comerciante $\\$9$ pesos c ad auno. Las ventas de periodo del comercio a partir de su experiencia se reflejan en la tabla siguiente. \n"
   ]
  },
  {
   "cell_type": "markdown",
   "id": "cd154713-d02b-4af3-98d5-1207d13e658b",
   "metadata": {
    "id": "51ce3fa1"
   },
   "source": [
    "|    Periodicos  |**30**|**40**|**50**|**60**|**70**|\n",
    "|------|-------|----------|----------|----------|----------|\n",
    "|f(x)|     0.20    |  0.25        |  0.25        |  0.20        |  0.10        |\n"
   ]
  },
  {
   "cell_type": "markdown",
   "id": "3c1eb3af-d4d4-4ad4-9f2e-e3b27a069e31",
   "metadata": {
    "id": "51ce3fa1"
   },
   "source": [
    "teniendo en cuenta un costo de $\\$2$ pesos por venta perdida y un costo de $\\$1$ peso por cada reciclaje de cada periodico no vendido. Determine el beneficio promedio diario si pide 50 periodicos cada día.\n",
    "1. Analíticamente.\n",
    "2. Mediante simulación."
   ]
  },
  {
   "cell_type": "markdown",
   "id": "6f1b4105",
   "metadata": {
    "id": "6f1b4105"
   },
   "source": [
    "# **Analiticamente**"
   ]
  },
  {
   "cell_type": "markdown",
   "id": "0DiHi1W5vsXg",
   "metadata": {
    "id": "0DiHi1W5vsXg"
   },
   "source": [
    "Para calcular el beneficio esperado promedio, lo veremos por casos:\n",
    "Caso 1, la demanda sea 30.\n",
    "\\begin{equation*}\n",
    "\\begin{aligned}\n",
    "\\text{Ganancia 1} &= \\text{periodicos vendidos*precio - periodicos pedidos*costo de periodico - periodicos que sobraron * costo de reciclaje}\\\\\n",
    "&= 30*\\$11 - 50*\\$9 - 20*\\$1 = -\\$140 \n",
    "\\end{aligned}\n",
    "\\end{equation*}\n",
    "Caso 2, la demanda sea 40.\n",
    "\\begin{equation*}\n",
    "\\begin{aligned}\n",
    "\\text{Ganancia 2} &= \\text{periodicos vendidos*precio - periodicos pedidos*costo de periodico - periodicos que sobraron * costo de reciclaje}\\\\\n",
    "&= 40*\\$11 - 50*\\$9 - 10*\\$1 = -\\$20 \n",
    "\\end{aligned}\n",
    "\\end{equation*}\n",
    "Caso 3, la demanda sea 50.\n",
    "\\begin{equation*}\n",
    "\\begin{aligned}\n",
    "\\text{Ganancia 3} &= \\text{periodicos vendidos*precio - periodicos pedidos*costo de periodico}\\\\\n",
    "&= 50*\\$11 - 50*\\$9= \\$100 \n",
    "\\end{aligned}\n",
    "\\end{equation*}\n",
    "Caso 4, la demanda sea 60.\n",
    "\\begin{equation*}\n",
    "\\begin{aligned}\n",
    "\\text{Ganancia 4} &= \\text{periodicos vendidos*precio - periodicos pedidos*costo de periodico - periodicos que faltaron * costo de perdida de venta}\\\\\n",
    "&= 50*\\$11 - 50*\\$9 - 10*\\$2 = \\$80 \n",
    "\\end{aligned}\n",
    "\\end{equation*}\n",
    "Caso 5, la demanda sea 70.\n",
    "\\begin{equation*}\n",
    "\\begin{aligned}\n",
    "\\text{Ganancia 5} &= \\text{periodicos vendidos*precio - periodicos pedidos*costo de periodico - periodicos que faltaron * costo de perdida de venta}\\\\\n",
    "&= 50*\\$11 - 50*\\$9 - 20*\\$2 = \\$60 \n",
    "\\end{aligned}\n",
    "\\end{equation*}\n",
    "Como podemos ver en la tabla, cada posible cantidad de periodicos demandados tienen cierta probabilidad, por lo que el beneficio promedio diario si pide 50 periodicos cada día es:\n",
    "\\begin{equation*}\n",
    "\\begin{aligned}\n",
    "\\text{Beneficio} &= \\sum_{i=1}^{5} \\text{ganancia}_i \\times \\text{p}(\\text{ganancia}_i) \\\\\n",
    "&= (-\\$140 \\times 0.20) + (-\\$20 \\times 0.25) + (\\$100 \\times 0.25) + (\\$80 \\times 0.20) + (\\$60 \\times 0.10) \\\\\n",
    "&= -\\$28 -\\$5 + \\$25 + \\$16 + \\$6 \\\\\n",
    "\\therefore \\text{Beneficio} &= \\$14\n",
    "\\end{aligned}\n",
    "\\end{equation*}"
   ]
  },
  {
   "cell_type": "markdown",
   "id": "564ca694",
   "metadata": {
    "id": "564ca694"
   },
   "source": [
    "# **Por simulación: Construimos el modelo en varios pasos.**"
   ]
  },
  {
   "cell_type": "markdown",
   "id": "fbbc8571",
   "metadata": {
    "id": "fbbc8571"
   },
   "source": [
    "**PASO 1**. Defina las variables que intervienen en el modelo."
   ]
  },
  {
   "cell_type": "markdown",
   "id": "UHA2uzuIxSLY",
   "metadata": {
    "id": "UHA2uzuIxSLY"
   },
   "source": [
    "Sea $X$ una variable aleatoria que determina la cantidad de periodicos demandada.\n",
    "\\begin{equation*}\n",
    "\\begin{aligned}\n",
    "X = \\text{Cantidad de periodicos demandados}\n",
    "\\end{aligned}\n",
    "\\end{equation*}"
   ]
  },
  {
   "cell_type": "markdown",
   "id": "4d3899f3",
   "metadata": {
    "id": "4d3899f3"
   },
   "source": [
    "**PASO 2**. Formule la distribución de probabilidad de cada variable."
   ]
  },
  {
   "cell_type": "markdown",
   "id": "fefa1334",
   "metadata": {
    "id": "fefa1334"
   },
   "source": [
    "\n",
    "|    Periodicos  |**30**|**40**|**50**|**60**|**70**|\n",
    "|------|-------|----------|----------|----------|----------|\n",
    "|f(x)|     0.20    |  0.25        |  0.25        |  0.20        |  0.10        |"
   ]
  },
  {
   "cell_type": "markdown",
   "id": "fd02116a",
   "metadata": {
    "id": "fd02116a"
   },
   "source": [
    "**PASO 3**. Enumere la distribución acumulada de probabilidad de cada variable."
   ]
  },
  {
   "cell_type": "markdown",
   "id": "59e252c6",
   "metadata": {
    "id": "59e252c6"
   },
   "source": [
    "|    Periodicos  |**30**|**40**|**50**|**60**|**70**|\n",
    "|------|-------|----------|----------|----------|----------|\n",
    "|f(x)|     0.20    |  0.25        |  0.25        |  0.20        |  0.10        |\n",
    "|F(x)|     0.20    |  0.45        |  0.70        |  0.90        |  1.00        |"
   ]
  },
  {
   "cell_type": "markdown",
   "id": "4852dcac",
   "metadata": {
    "id": "4852dcac"
   },
   "source": [
    "**PASO 4**. Establezca el intervalo de números aleatorios correspondiente a cada valor de cada una de las variables."
   ]
  },
  {
   "cell_type": "markdown",
   "id": "905db069",
   "metadata": {
    "id": "905db069"
   },
   "source": [
    "|    Periodicos  |**30**|**40**|**50**|**60**|**70**|\n",
    "|------|-------|----------|----------|----------|----------|\n",
    "|f(x)|     0.20    |  0.25        |  0.25        |  0.20        |  0.10        |\n",
    "|F(x)|     0.20    |  0.45        |  0.70        |  0.90        |  1.00        |\n",
    "|Intervalos|     (0, 0.20]   |  (0.20, 0.45]    |  (0.45, 70]        |  (0.70, 0.90]       |  (0.90, 1]       |"
   ]
  },
  {
   "cell_type": "markdown",
   "id": "2aa63f5f-cd55-4bf2-8f18-b9f0f81ac48f",
   "metadata": {
    "id": "edb6b074"
   },
   "source": [
    "**PASO 5**. Genere números aleatorios."
   ]
  },
  {
   "cell_type": "code",
   "execution_count": 116,
   "id": "9ff3b2c7-5e2a-4491-97ff-c707ab88b2aa",
   "metadata": {
    "id": "edb6b074"
   },
   "outputs": [
    {
     "data": {
      "text/plain": [
       "0.6370228501548884"
      ]
     },
     "execution_count": 116,
     "metadata": {},
     "output_type": "execute_result"
    }
   ],
   "source": [
    "import numpy as np\n",
    "import random\n",
    "import matplotlib.pyplot as plt\n",
    "import math\n",
    "u = random.uniform(0,1)\n",
    "u"
   ]
  },
  {
   "cell_type": "markdown",
   "id": "f38f3396",
   "metadata": {
    "id": "f38f3396"
   },
   "source": [
    "**PASO 6**. Simule un día de venta."
   ]
  },
  {
   "cell_type": "markdown",
   "id": "a68ba17e",
   "metadata": {
    "id": "a68ba17e"
   },
   "source": [
    "Si perio (cantidad de periodicos vendidos) < 50 (cantidad de periodicos pedidos)    \n",
    "\n",
    "¿Si ocurre lo de arriba? => **ganancia = n(11)-50(9)-(50-n)(1)**\n",
    "\n",
    "Si perio (cantidad de periodicos vendidos) = 50 (cantidad de periodicos pedidos)    \n",
    "\n",
    "¿Si ocurre lo de arriba? => **ganancia = n(11)-50(9)**\n",
    "\n",
    "Si perio (cantidad de periodicos vendidos) > 50 (cantidad de periodicos pedidos)    \n",
    "\n",
    "¿Si ocurre lo de arriba? => **50(11)-50(9)-(n-50)(2)**"
   ]
  },
  {
   "cell_type": "markdown",
   "id": "d270399e",
   "metadata": {
    "id": "d270399e"
   },
   "source": [
    "**PASO 7**. Obtenga la gráfica de estabilización que indica que el tamaño de muestra utilizado es suficiente para\n",
    "garantizar la convergencia del resultado."
   ]
  },
  {
   "cell_type": "code",
   "execution_count": 117,
   "id": "2fd22e33",
   "metadata": {
    "id": "2fd22e33"
   },
   "outputs": [],
   "source": [
    "import numpy as np\n",
    "import random\n",
    "import matplotlib.pyplot as plt\n",
    "import math"
   ]
  },
  {
   "cell_type": "code",
   "execution_count": 118,
   "id": "32719c0f",
   "metadata": {
    "id": "32719c0f"
   },
   "outputs": [],
   "source": [
    "\n",
    "periodico = [30, 40, 50, 60, 70] #Posibles demandas de periodicos\n",
    "acu = [0, 0.20, 0.45, 0.70, 0.90, 1] #Intervalos de probabilidad de caer cada una de las posibles demandas de periodicos.\n",
    "def periodicos(u): #Esta función requiere de un número aleatorio.\n",
    "    perio = 0\n",
    "    for i in range(len(acu)-1): #Este ciclo hara un recorrido entre los intervalos de probabilidad.\n",
    "        if  acu[i]<u and u <= acu[i+1]: #Esta condición identificara en que intervalo de probabilidad cae el número aleatorio u.\n",
    "            perio = perio + periodico[i] #perio al inicio vale 0, despues valdra la cantidad demandada de acuerdo al intervalo en el que cayo la u.\n",
    "            \n",
    "    return perio #Regresa la cantidad demandada de periodicos en un día.\n"
   ]
  },
  {
   "cell_type": "code",
   "execution_count": 119,
   "id": "5552770a-b031-4864-b108-e1558821d786",
   "metadata": {
    "id": "32719c0f"
   },
   "outputs": [],
   "source": [
    "cantidad = 50 #Cantidad de periodicos que pide al día el vendedor.\n",
    "precio = 11 #Precio al que se vende cada periodico\n",
    "costo = 9 #Costo de cada periodico\n",
    "perdida = 2 #Costo de venta perdida por cada periodico, es decir, no tenemos suficientes.\n",
    "reciclaje = 1 #Costo por reciclaje de cada periodico, es decir, nos sobran periodicos.\n",
    "def gan(n): #Esta función requiere la cantidad de periodicos demandados en un día (n), es decir, perio de la función anterior.\n",
    "    ganancia = 0\n",
    "    if n<cantidad: #Si la cantidad demandada de periodicos (n) es menor a la cantidad de periodicos pedidos (cantidad), entonces\n",
    "        ganancia = n*(precio)-cantidad*(costo)-(cantidad-n)*(reciclaje) #La ganancia sera la cantidad de periodicos vendidos (n) por su precio, menos\n",
    "        #la cantidad de periodicos pedidos por su costo, menos la cantidad de periodicos no vendidos por su costo de reciclaje.\n",
    "    elif n == cantidad: #Si la cantidad demandada de periodicos (n) es igual a la cantidad de periodicos pedidos (cantidad), entonces\n",
    "        ganancia = n*(precio)-cantidad*(costo) #La ganancia sera la cantidad de periodicos vendidos (n) por su precio, menos\n",
    "        #la cantidad de periodicos pedidos por su costo.\n",
    "    else: #Si la cantidad demandada de periodicos (n) es mayor a la cantidad de periodicos pedidos (cantidad), entonces\n",
    "        ganancia = (cantidad)*(precio)-cantidad*(costo)-(n-cantidad)*(perdida) #La ganancia sera la cantidad de periodicos vendidos que son la cantidad\n",
    "        # de periodicos vendidos por su precio, menos la cantidad de periodicos pedidos por su costo - la cantidad de periodicos que no pudimos vender\n",
    "        #por su costo por venta perdida.\n",
    "    return ganancia #Regreamos la ganancia de acuerdo al número de periodicos demandados."
   ]
  },
  {
   "cell_type": "code",
   "execution_count": 120,
   "id": "51fd884f-a9e5-46de-b399-de3a2be9185e",
   "metadata": {
    "id": "32719c0f"
   },
   "outputs": [
    {
     "data": {
      "text/plain": [
       "100"
      ]
     },
     "execution_count": 120,
     "metadata": {},
     "output_type": "execute_result"
    }
   ],
   "source": [
    "gan(periodicos(random.uniform(0,1)))"
   ]
  },
  {
   "cell_type": "code",
   "execution_count": 121,
   "id": "0d2847cf",
   "metadata": {
    "id": "0d2847cf"
   },
   "outputs": [],
   "source": [
    "def experimento(iteraciones): #Esta función requiere el número de experiementos descrito anteriormente.\n",
    "    i = 0\n",
    "    utilidad=0  #Contador que nos dira en i iteración cuenta ganancia promedio diaria hay al pedir 50 periodicos.\n",
    "    Lista = [] #Guardara la ganancia promedio diaria al pedir 50 periodicos en la iteración i\n",
    "    while i <= iteraciones:\n",
    "        utilidad = utilidad + gan(periodicos(random.uniform(0,1))) #Esta utilidad ira sumando la ganancia de un día de acuerdo a la demanda de periodicos.\n",
    "        i += 1\n",
    "        benefi = utilidad/i #Calcula el beneficio promedio mencionada en Lista.\n",
    "        Lista.append(benefi)\n",
    "    return Lista #Regresa una lista del beneficio promedio diario si pide 50 periodicos cada día."
   ]
  },
  {
   "cell_type": "code",
   "execution_count": 122,
   "id": "548249d8",
   "metadata": {
    "id": "548249d8"
   },
   "outputs": [],
   "source": [
    "exp = experimento(1500) #Hara el experimento antes descrito 1500 veces, es decir, nos dara 1500 beneficios promedio diario."
   ]
  },
  {
   "cell_type": "code",
   "execution_count": 123,
   "id": "566325f4",
   "metadata": {
    "colab": {
     "base_uri": "https://localhost:8080/"
    },
    "id": "566325f4",
    "outputId": "07bd1993-f404-4ddb-e27e-80e97992492e"
   },
   "outputs": [
    {
     "data": {
      "text/plain": [
       "15.724622460873382"
      ]
     },
     "execution_count": 123,
     "metadata": {},
     "output_type": "execute_result"
    }
   ],
   "source": [
    "np.mean(exp) #Saca la media de los experimentos anteriores, eso nos dara una aproximación al beneficio promedio diario."
   ]
  },
  {
   "cell_type": "code",
   "execution_count": 124,
   "id": "ef68f87c",
   "metadata": {
    "colab": {
     "base_uri": "https://localhost:8080/",
     "height": 472
    },
    "id": "ef68f87c",
    "outputId": "cd4a1f39-0675-4b7b-83ab-612ee682f6ce"
   },
   "outputs": [
    {
     "data": {
      "image/png": "[encoded data removed]",
      "text/plain": [
       "<Figure size 640x480 with 1 Axes>"
      ]
     },
     "metadata": {},
     "output_type": "display_data"
    }
   ],
   "source": [
    "plt.plot(exp)  #Grafica la lista de beneficio promedio diario.\n",
    "plt.xlabel('iteraciones')\n",
    "plt.ylabel('Beneficio')\n",
    "plt.title('Beneficio promedio diario al pedir 50 periodicos')\n",
    "\n",
    "# Agrega una línea vertical en la iteración 1100 que de manera visual es donde comienza el estado estable.\n",
    "plt.axvline(x=1100, color='red', linestyle='--', label='Estado Estable en 1100')\n",
    "\n",
    "plt.legend()  # Muestra la leyenda si es necesario\n",
    "plt.show()"
   ]
  },
  {
   "cell_type": "markdown",
   "id": "f596fcd1",
   "metadata": {
    "id": "f596fcd1"
   },
   "source": [
    "**PASO 8**. Replique el modelo."
   ]
  },
  {
   "cell_type": "code",
   "execution_count": 125,
   "id": "b237f0d0",
   "metadata": {
    "id": "b237f0d0"
   },
   "outputs": [],
   "source": [
    "def simulacion_caras(repeticiones): #Esta función hara la simulacion anterior muchas veces, es decir, hará \"repeticiones\" simulaciones.\n",
    "    List = []\n",
    "    for i in range(repeticiones):\n",
    "        List.append(np.mean(experimento(1100))) #Calcula la media de 1100 experiementos unas N (repeticiones) cantidad de veces \n",
    "    return List #Nos regresa N (repeticiones) medias de 1100 experiemntos cada una."
   ]
  },
  {
   "cell_type": "code",
   "execution_count": 126,
   "id": "d060db89",
   "metadata": {
    "id": "d060db89"
   },
   "outputs": [],
   "source": [
    "N=100\n",
    "simulacion = simulacion_caras(N)"
   ]
  },
  {
   "cell_type": "code",
   "execution_count": 128,
   "id": "cc0b958d",
   "metadata": {
    "colab": {
     "base_uri": "https://localhost:8080/",
     "height": 472
    },
    "id": "cc0b958d",
    "outputId": "75cd2eb9-9dd9-4fb0-bc8a-ff54f9240700"
   },
   "outputs": [
    {
     "data": {
      "image/png": "[encoded data removed]",
      "text/plain": [
       "<Figure size 640x480 with 1 Axes>"
      ]
     },
     "metadata": {},
     "output_type": "display_data"
    }
   ],
   "source": [
    "plt.hist(simulacion) #Grafica las frecuencias de la probabilidad de las N simualciones con 1100 experiemntos cada una en un histograma.\n",
    "plt.xlabel('Probabilidad de caer 2 caras en 3 lanzamientos de moneda.')\n",
    "plt.ylabel('Frecuencia')\n",
    "plt.title('Probabilidad')\n",
    "plt.show()"
   ]
  },
  {
   "cell_type": "markdown",
   "id": "6e9bd469",
   "metadata": {
    "id": "6e9bd469"
   },
   "source": [
    "**PASO 9**. Calcule el beneficio promedio diario y su desviación estándar."
   ]
  },
  {
   "cell_type": "code",
   "execution_count": 129,
   "id": "dbeb0461",
   "metadata": {
    "colab": {
     "base_uri": "https://localhost:8080/"
    },
    "id": "dbeb0461",
    "outputId": "14755a95-77b4-4496-8a68-1b6749ba0da6"
   },
   "outputs": [],
   "source": [
    "media = np.mean(simulacion) #Calcula la media de esas N simulaciones\n",
    "var = np.var(simulacion) #Calcula la varianza de esas N simulaciones\n",
    "desv = np.std(simulacion) #Calcula la desvaicion de esas N simulaciones"
   ]
  },
  {
   "cell_type": "markdown",
   "id": "db8776d2",
   "metadata": {
    "id": "db8776d2"
   },
   "source": [
    "**PASO 10**. Halle el intervalo de confianza del beneficio promedio diario si pide 50 periodicos cada día con un nivel de confianza del $95 \\%$. Sabemos que para el intervalo de confianza:\n",
    "\\begin{equation*}\n",
    "\\overline{x}- Z_{\\frac{\\alpha}{2}}  \\cdot \\frac{S}{\\sqrt{N}} < \\mu < \\overline{x}+ Z_{\\frac{\\alpha}{2}}  \\cdot \\frac{S}{\\sqrt{N}}\n",
    "\\end{equation*}"
   ]
  },
  {
   "cell_type": "code",
   "execution_count": 130,
   "id": "e5132329",
   "metadata": {
    "colab": {
     "base_uri": "https://localhost:8080/"
    },
    "id": "e5132329",
    "outputId": "ebfed386-eafe-4518-9b7e-f36c973efba6"
   },
   "outputs": [
    {
     "name": "stdout",
     "output_type": "stream",
     "text": [
      "Entonces:  14.130252623870504 < μ < 15.517480893860558\n"
     ]
    }
   ],
   "source": [
    "from scipy.stats import norm #Importamos la libreria para poder obtener el valor de Z.\n",
    "alpha = 1 - 0.95 #Alpha es igual a 1 - la confianza del intervalo\n",
    "z_alpha_2 = norm.ppf(1-alpha / 2) #Mandamos a pedir el valor de Z para \\alpha/2, sabemos que si es el 95% de confienza, Z esta cercano al 1.96.\n",
    "l_inferior = media - z_alpha_2 * (desv / math.sqrt(N)) #Sacamos limite inferior por la formula\n",
    "l_superior = media + z_alpha_2 * (desv / math.sqrt(N)) #Sacamos limite superior por la formula\n",
    "print(\"Entonces: \", l_inferior, \"< \\u03BC <\", l_superior) #El intervalo en donde se encuentra el valor real a una confienza del 95%\n",
    "\n"
   ]
  }
 ],
 "metadata": {
  "colab": {
   "include_colab_link": true,
   "provenance": []
  },
  "kernelspec": {
   "display_name": "Python 3 (ipykernel)",
   "language": "python",
   "name": "python3"
  },
  "language_info": {
   "codemirror_mode": {
    "name": "ipython",
    "version": 3
   },
   "file_extension": ".py",
   "mimetype": "text/x-python",
   "name": "python",
   "nbconvert_exporter": "python",
   "pygments_lexer": "ipython3",
   "version": "3.11.7"
  }
 },
 "nbformat": 4,
 "nbformat_minor": 5
}
