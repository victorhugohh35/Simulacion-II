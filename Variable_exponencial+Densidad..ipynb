{
 "cells": [
  {
   "cell_type": "markdown",
   "id": "C56cmed7AycF",
   "metadata": {
    "id": "C56cmed7AycF"
   },
   "source": [
    "## Método General de Transformada Inversa Continua\n",
    "EL método de la trasformada inversa continua es una técnica para generar números aleatorios de cualquier distribución de probabilidad, para ello necesitamos que dicha distribución sea continúa, y que exista la inversa de su función de distribución en el intervalo de interés. El método general implica los siguientes pasos:\n",
    "\n",
    "\n",
    "1. Generar un número aleatorio $U$ uniformemente distribuido en $(0,1)$, es decir $U\\sim U(0,1)$.\n",
    "2. Calcular el número aleatorio  $X$ utilizando $X = F^{-1}(U)$.\n"
   ]
  },
  {
   "cell_type": "markdown",
   "id": "__jqnm2NAxZp",
   "metadata": {
    "id": "__jqnm2NAxZp"
   },
   "source": [
    "## Densidad Exponencial general de parámetro $\\lambda$\n",
    "La distribución exponencial de parámetro $\\lambda$,tiene una funcion de densidad de probabilidad dada por:\n",
    "\n",
    "$$\n",
    "f(x) =\n",
    "\\begin{cases}\n",
    "\\frac{1}{\\lambda}e^{-\\frac{x}{\\lambda}} & \\text{si } x \\geq 0 \\\\\n",
    "0 & \\text{otro caso }\n",
    "\\end{cases}\n",
    "$$\n",
    "\n",
    "O lo que es lo mismo\n",
    "\n",
    "$$\n",
    "f(x) = \\frac{1}{\\lambda}e^{-\\frac{x}{\\lambda}} I_{[0,\\infty)}(x)\n",
    "$$\n",
    "\n",
    "donde $\\lambda$ es el parámetro de escala de la distribución con $\\lambda>0$, su valor esperado es $E(x) = \\lambda$.\n",
    "\n",
    "## Funcion de Distribución Exponencial general de parámetro $\\lambda$\n",
    "\\begin{align*}\n",
    "    F(x)&=\\int_{-\\infty}^{x} \\frac{1}{\\lambda}e^{-\\frac{t}{\\lambda}} I_{[0,\\infty)}(t) \\,dt\\\\\n",
    "    &\\overset{x\\geq 0}{=} \\frac{1}{\\lambda} \\int_{0}^{x} e^{-\\frac{t}{\\lambda}}  \\,dt\\\\\n",
    "&= \\frac{1}{\\lambda}\\left[-\\lambda e^{-\\frac{t}{\\lambda}}\\middle |_{0}^{x}\\right]\\\\\n",
    "    &=-\\left[e^{-\\frac{x}{\\lambda}}-(e^0)\\right]\\\\\n",
    "    &=1-e^{-\\frac{x}{\\lambda}}\\\\\n",
    "\\end{align*}\n",
    "Por lo tanto su función de distribución general de parámetro $\\lambda$, esta dado por $F(x)=1-e^{-\\frac{x}{\\lambda}}$\n",
    "\n",
    "## Transformada Inversa para la Distribución Exponencial general de parámetro $\\lambda$\n",
    "Suponemos que $F(x)=y$, y despejamos para $x$\n",
    "\\begin{align*}\n",
    "    y&=1-e^{-\\frac{x}{\\lambda}}\\\\\n",
    "    y-1&=-e^{-\\frac{x}{\\lambda}}\\\\\n",
    "    e^{-\\frac{x}{\\lambda}}&=1-y\\\\\n",
    "    ln(e^{-\\frac{x}{\\lambda}})&=ln(1-y)\\\\\n",
    "    -\\frac{x}{\\lambda}&=\\text{ln}(1-y)\\\\\n",
    "    x&=-\\lambda ln(1-y) \\\\\n",
    "    F^{-1}(x)&=-\\lambda\\text{ln}(1-x)\\\\\n",
    "\\end{align*}\n",
    "\n",
    "\n",
    "Pero observemos que $F^{-1}(x)$ solo tiene sentido para $x \\in (0,1)$(por la propia función y la definición de la distribución exponencial de parámetro $\\lambda$, por lo que $F^{-1}(x)=-\\lambda ln(1-x)I_{(0,1)}(x)$.\n",
    "\n",
    "Finalmente, regresamos\n",
    "$$\n",
    "    X=-\\lambda \\text{ln}(1-U)\\\\\n",
    "    X=-\\lambda \\text{ln}(U)\n",
    "$$\n",
    "donde $U \\sim U(0,1)$ cual nos sirve para generar números aleatorios con una distribución exponencial de parámetro $\\lambda$.\n"
   ]
  },
  {
   "cell_type": "markdown",
   "id": "Pgrdqf_qAYx7",
   "metadata": {
    "id": "Pgrdqf_qAYx7"
   },
   "source": [
    "## Para implementarlo en Python\n",
    "Importamos las librerias que utilizaremos"
   ]
  },
  {
   "cell_type": "code",
   "execution_count": null,
   "id": "526a8a72",
   "metadata": {
    "id": "526a8a72"
   },
   "outputs": [],
   "source": [
    "import random as rnd #para generar números aleatorios distribuidos como U(0,1)\n",
    "import numpy as np #para realizar operaciones numéricas\n",
    "import matplotlib.pyplot as plt #para realizar gráficos cómo histogramas\n",
    "import math #para usar constantes y operaciones matemáticas"
   ]
  },
  {
   "cell_type": "markdown",
   "id": "5O65aHVBMf83",
   "metadata": {
    "id": "5O65aHVBMf83"
   },
   "source": [
    "definimos los parámetros de la distribución exponencial($\\lambda$)."
   ]
  },
  {
   "cell_type": "code",
   "execution_count": null,
   "id": "3cc7a018",
   "metadata": {
    "id": "3cc7a018"
   },
   "outputs": [],
   "source": [
    "n=10 #buscamos generar n números aleatorios\n",
    "lamda= 2 #es el parámetro de la distribución exponencial que también es su media\n",
    "L= -lamda #parámetro de apoyo"
   ]
  },
  {
   "cell_type": "markdown",
   "id": "wCP7vV_vMpIl",
   "metadata": {
    "id": "wCP7vV_vMpIl"
   },
   "source": [
    "usamos un ciclo for para generar los números aleatorios con la distribución  exponencial($\\lambda$)."
   ]
  },
  {
   "cell_type": "code",
   "execution_count": null,
   "id": "f9d7220f",
   "metadata": {
    "colab": {
     "base_uri": "https://localhost:8080/"
    },
    "id": "f9d7220f",
    "outputId": "6c716f73-d974-4d84-ebc2-9ea80ccbc7a1"
   },
   "outputs": [
    {
     "name": "stdout",
     "output_type": "stream",
     "text": [
      "1.345614036585423\n",
      "0.29558566505866735\n",
      "2.4585287439408465\n",
      "1.8657185061966317\n",
      "0.3031640395416841\n",
      "1.071161708366189\n",
      "2.25654866768281\n",
      "3.9962557630406885\n",
      "4.680171305969595\n",
      "5.529148537201897\n"
     ]
    }
   ],
   "source": [
    "for i in range(n):\n",
    "    u=rnd.random() #1 número aleatorio u distribuido como U(0,1) por cada ciclo\n",
    "    x=L*np.log(u) #utiliza u para generar X con distribución exp(lambda)\n",
    "    print(x) #imprimimos los números aleatorios generados"
   ]
  },
  {
   "cell_type": "markdown",
   "id": "31VoaSOCMz9C",
   "metadata": {
    "id": "31VoaSOCMz9C"
   },
   "source": [
    "Podemos definir una función para fusionar los dos pasos anteriores."
   ]
  },
  {
   "cell_type": "code",
   "execution_count": null,
   "id": "952aaa63",
   "metadata": {
    "id": "952aaa63"
   },
   "outputs": [],
   "source": [
    "def expo(lamda=1,n=10): #definimos una función para genear n números aleatorios\n",
    "    lamda = 2\n",
    "    L = -lamda\n",
    "    lista=[] #lista para guardar los números aleatorios generados\n",
    "    for i in range(n):\n",
    "        u=rnd.random()\n",
    "        x=  L*np.log(u)\n",
    "        lista.append(x)\n",
    "    return lista #regresa la lista de los números aleatorios que se generaron."
   ]
  },
  {
   "cell_type": "markdown",
   "id": "uWcvtaoeNJjs",
   "metadata": {
    "id": "uWcvtaoeNJjs"
   },
   "source": [
    "generamos una muestra de 50 números aleatorios con distribucion Exp(0.5)"
   ]
  },
  {
   "cell_type": "code",
   "execution_count": null,
   "id": "6c3273ea",
   "metadata": {
    "id": "6c3273ea"
   },
   "outputs": [],
   "source": [
    "muestra=expo(0.5,5000) #se generaron n numeros aleatorios con distribucion exp(0.5)"
   ]
  },
  {
   "cell_type": "markdown",
   "id": "Vbhs1-G2NbBh",
   "metadata": {
    "id": "Vbhs1-G2NbBh"
   },
   "source": [
    "Calculamos la media de la muestra generada y la imprimimos"
   ]
  },
  {
   "cell_type": "code",
   "execution_count": null,
   "id": "04963b3a",
   "metadata": {
    "colab": {
     "base_uri": "https://localhost:8080/"
    },
    "id": "04963b3a",
    "outputId": "d08d164d-7e59-4c25-b49d-1e2048050186"
   },
   "outputs": [
    {
     "name": "stdout",
     "output_type": "stream",
     "text": [
      "2.0032069665604055\n"
     ]
    }
   ],
   "source": [
    "media=np.mean(muestra) #calculamos la media usando np\n",
    "print(media)"
   ]
  },
  {
   "cell_type": "markdown",
   "id": "7eHLROCDNeQu",
   "metadata": {
    "id": "7eHLROCDNeQu"
   },
   "source": [
    "Calculamos la varianza de la muestra generada y la imprimimos"
   ]
  },
  {
   "cell_type": "code",
   "execution_count": null,
   "id": "c3af2714",
   "metadata": {
    "colab": {
     "base_uri": "https://localhost:8080/"
    },
    "id": "c3af2714",
    "outputId": "65f7c3ee-203f-4453-be31-a3dfc95540e4"
   },
   "outputs": [
    {
     "name": "stdout",
     "output_type": "stream",
     "text": [
      "3.873940627444283\n"
     ]
    }
   ],
   "source": [
    "varianza = np.var(muestra) #calculamos la varianza usando np\n",
    "print(varianza)"
   ]
  },
  {
   "cell_type": "markdown",
   "id": "MV87JsZuNlvK",
   "metadata": {
    "id": "MV87JsZuNlvK"
   },
   "source": [
    "Hacemos un histograma de frecuencias de la muestra generada."
   ]
  },
  {
   "cell_type": "code",
   "execution_count": null,
   "id": "659af062",
   "metadata": {
    "colab": {
     "base_uri": "https://localhost:8080/",
     "height": 539
    },
    "id": "659af062",
    "outputId": "1e84cd6c-4d27-4472-84a2-463c98d54116"
   },
   "outputs": [
    {
     "data": {
      "text/plain": [
       "(array([3.162e+03, 1.159e+03, 4.470e+02, 1.450e+02, 6.200e+01, 1.600e+01,\n",
       "        5.000e+00, 3.000e+00, 0.000e+00, 1.000e+00]),\n",
       " array([1.67492491e-04, 2.01326233e+00, 4.02635716e+00, 6.03945199e+00,\n",
       "        8.05254682e+00, 1.00656417e+01, 1.20787365e+01, 1.40918313e+01,\n",
       "        1.61049262e+01, 1.81180210e+01, 2.01311158e+01]),\n",
       " <BarContainer object of 10 artists>)"
      ]
     },
     "execution_count": 83,
     "metadata": {},
     "output_type": "execute_result"
    },
    {
     "data": {
      "image/png": "[encoded data removed]",
      "text/plain": [
       "<Figure size 640x480 with 1 Axes>"
      ]
     },
     "metadata": {},
     "output_type": "display_data"
    }
   ],
   "source": [
    "plt.hist(muestra) #creamos un histograma de frecuencia de los numeros aleatorios generados"
   ]
  },
  {
   "cell_type": "markdown",
   "id": "rGLJbOHpPelg",
   "metadata": {
    "id": "rGLJbOHpPelg"
   },
   "source": [
    "Ahora haremos la gráfica distribución acumulativa de la Exp($\\lambda$)"
   ]
  },
  {
   "cell_type": "code",
   "execution_count": null,
   "id": "1bf4eb64",
   "metadata": {
    "id": "1bf4eb64"
   },
   "outputs": [],
   "source": [
    "#Para hacer la distribución acumulativa\n",
    "M=np.sort(muestra)  # Ordena los  elementos de la lista \"muestra\""
   ]
  },
  {
   "cell_type": "code",
   "execution_count": null,
   "id": "acc98ccb",
   "metadata": {
    "id": "acc98ccb"
   },
   "outputs": [],
   "source": [
    "def cdf(muestra):\n",
    "    n=len(muestra) #Calcula la longitud de la muestra\n",
    "    x=np.sort(muestra) # Ordena los  elementos de la lista \"muestra\"\n",
    "    y=np.arange(0,n)/n #crea un arreglo de enteros de 0 a n-1, y luego lo divide por n\n",
    "    #lo que normaliza los valores al rango [0, 1]\n",
    "    return x,y #devuelve los valores de \"x\" y \"y\""
   ]
  },
  {
   "cell_type": "code",
   "execution_count": null,
   "id": "b2f831af",
   "metadata": {
    "colab": {
     "base_uri": "https://localhost:8080/"
    },
    "id": "b2f831af",
    "outputId": "ae84c9d9-c33c-4eb6-e703-b52ab82f2018"
   },
   "outputs": [
    {
     "name": "stdout",
     "output_type": "stream",
     "text": [
      "(array([1.67492491e-04, 1.29999843e-03, 1.58191793e-03, ...,\n",
      "       1.55552339e+01, 1.58470389e+01, 2.01311158e+01]), array([0.000e+00, 2.000e-04, 4.000e-04, ..., 9.994e-01, 9.996e-01,\n",
      "       9.998e-01]))\n"
     ]
    }
   ],
   "source": [
    "print(cdf(muestra))"
   ]
  },
  {
   "cell_type": "code",
   "execution_count": null,
   "id": "faa272c5",
   "metadata": {
    "id": "faa272c5"
   },
   "outputs": [],
   "source": [
    "x_math,y_math=cdf(muestra) #asignamos \"x\" y \"y\" que retornamos de la funcion cdf a las variables \"x_math\" y \"y_math\""
   ]
  },
  {
   "cell_type": "code",
   "execution_count": null,
   "id": "d83a6404",
   "metadata": {
    "colab": {
     "base_uri": "https://localhost:8080/",
     "height": 448
    },
    "id": "d83a6404",
    "outputId": "1ecc5162-104f-47ff-b445-dca4d8c2ff25"
   },
   "outputs": [
    {
     "data": {
      "text/plain": [
       "<matplotlib.lines.Line2D at 0x7bb1c8d4e1a0>"
      ]
     },
     "execution_count": 88,
     "metadata": {},
     "output_type": "execute_result"
    },
    {
     "data": {
      "image/png": "[encoded data removed]",
      "text/plain": [
       "<Figure size 640x480 with 1 Axes>"
      ]
     },
     "metadata": {},
     "output_type": "display_data"
    }
   ],
   "source": [
    "plt.step(x_math,y_math) #ploteamos x_math contra y_math para representar F(x) de la distribución exponencial(lambda)\n",
    "plt.axhline(y=0.5, color='red') #La mediana\n",
    "plt.axvline(x=media,color='green') #La media"
   ]
  },
  {
   "cell_type": "markdown",
   "id": "LnjLKlw9kz71",
   "metadata": {
    "id": "LnjLKlw9kz71"
   },
   "source": [
    "## Densidad\n",
    "\n",
    "$$\n",
    "f(x) =\n",
    "\\begin{cases}\n",
    "\\frac{e^{x}}{e-1}& \\text{si } x \\leq 0 \\leq 1 \\\\\n",
    "0 & \\text{otro caso }\n",
    "\\end{cases}\n",
    "$$\n",
    "\n",
    "O lo que es lo mismo\n",
    "\n",
    "$$\n",
    "f(x) = \\frac{e^{x}}{e-1} I_{[0,1]}(x)\n",
    "$$\n",
    "\n",
    "\n",
    "## Funcion de Distribución\n",
    "\\begin{align*}\n",
    "    F(x)&=\\int_{-\\infty}^{x} \\frac{e^{t}}{e-1} I_{[0,1]}(t) \\,dt\\\\\n",
    "    &\\overset{x\\geq 0}{=} \\frac{1}{e-1} \\int_{0}^{x} e^{t}  \\,dt\\\\\n",
    "&= \\frac{1}{e-1}\\left[ e^{t}\\middle |_{0}^{x}\\right]\\\\\n",
    "    &=\\frac{1}{e-1}(e^x-1)\\\\\n",
    "\\end{align*}\n",
    "Por lo tanto  $F(x)=\\frac{e^x-1}{e-1}$\n",
    "\n",
    "## Transformada Inversa\n",
    "Suponemos que $F(x)=y$, y despejamos para $x$\n",
    "\\begin{align*}\n",
    "    y&=\\frac{e^x-1}{e-1}\\\\\n",
    "    y(e-1)&=e^x-1\\\\\n",
    "    e^x&=y(e-1)+1\\\\\n",
    "    x&=\\text{ln}(y(e-1)+1)\\\\\n",
    "    F^{-1}(x)&=\\text{ln}(x(e-1)+1)\\\\\n",
    "\\end{align*}\n",
    "\n",
    "Finalmente, regresamos\n",
    "$$\n",
    "    X=\\text{ln}(U(e-1)+1)\n",
    "$$\n",
    "donde $U \\sim U(0,1)$ cual nos sirve para generar números aleatorios con una distribución $f(x) = \\frac{e^{x}}{e-1} I_{[0,1]}(x)$\n"
   ]
  },
  {
   "cell_type": "markdown",
   "id": "U0LIhy0FqJmh",
   "metadata": {
    "id": "U0LIhy0FqJmh"
   },
   "source": [
    "![image.png](data:image/png;base64,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)"
   ]
  },
  {
   "cell_type": "code",
   "execution_count": null,
   "id": "oFAvMeLdqL7k",
   "metadata": {
    "id": "oFAvMeLdqL7k"
   },
   "outputs": [],
   "source": [
    "def dist(n=10): #definimos una función para genear n números aleatorios\n",
    "    lista=[] #lista para guardar los números aleatorios generados\n",
    "    for i in range(n):\n",
    "        u=rnd.random()\n",
    "        x=  np.log(u*(math.e-1)+1)\n",
    "        lista.append(x)\n",
    "    return lista #regresa la lista de los números aleatorios que se generaron."
   ]
  },
  {
   "cell_type": "code",
   "execution_count": null,
   "id": "-Nesaj-krSWQ",
   "metadata": {
    "colab": {
     "base_uri": "https://localhost:8080/"
    },
    "id": "-Nesaj-krSWQ",
    "outputId": "8b309efe-2685-4002-e0d1-eeb8e7e567e1"
   },
   "outputs": [
    {
     "name": "stdout",
     "output_type": "stream",
     "text": [
      "0.5809471475919346\n",
      "0.08105208646820766\n"
     ]
    }
   ],
   "source": [
    "muestra2=dist(5000)\n",
    "media2=np.mean(muestra2) #calculamos la media usando np\n",
    "print(media2)\n",
    "varianza2 = np.var(muestra2) #calculamos la varianza usando np\n",
    "print(varianza2)"
   ]
  },
  {
   "cell_type": "code",
   "execution_count": null,
   "id": "RAP9Ub1AsRna",
   "metadata": {
    "colab": {
     "base_uri": "https://localhost:8080/",
     "height": 524
    },
    "id": "RAP9Ub1AsRna",
    "outputId": "26605886-0720-487b-c7a7-baf6d71797be"
   },
   "outputs": [
    {
     "data": {
      "text/plain": [
       "(array([326., 354., 360., 420., 435., 491., 532., 623., 693., 766.]),\n",
       " array([8.93134328e-06, 9.99750035e-02, 1.99941076e-01, 2.99907148e-01,\n",
       "        3.99873220e-01, 4.99839292e-01, 5.99805364e-01, 6.99771437e-01,\n",
       "        7.99737509e-01, 8.99703581e-01, 9.99669653e-01]),\n",
       " <BarContainer object of 10 artists>)"
      ]
     },
     "execution_count": 101,
     "metadata": {},
     "output_type": "execute_result"
    },
    {
     "data": {
      "image/png": "[encoded data removed]",
      "text/plain": [
       "<Figure size 640x480 with 1 Axes>"
      ]
     },
     "metadata": {},
     "output_type": "display_data"
    }
   ],
   "source": [
    "plt.hist(muestra2) #creamos un histograma de frecuencia de los numeros aleatorios generados"
   ]
  },
  {
   "cell_type": "code",
   "execution_count": null,
   "id": "xjUVl3iksiK6",
   "metadata": {
    "id": "xjUVl3iksiK6"
   },
   "outputs": [],
   "source": [
    "x2_math,y2_math=cdf(muestra2) #asignamos \"x\" y \"y\" que retornamos de la funcion cdf a las variables \"x_math\" y \"y_math\""
   ]
  },
  {
   "cell_type": "code",
   "execution_count": null,
   "id": "-qnX-gQzssOB",
   "metadata": {
    "colab": {
     "base_uri": "https://localhost:8080/",
     "height": 448
    },
    "id": "-qnX-gQzssOB",
    "outputId": "64a29731-4c57-4aef-91b3-1eb708c8673b"
   },
   "outputs": [
    {
     "data": {
      "text/plain": [
       "<matplotlib.lines.Line2D at 0x7bb1ac599ff0>"
      ]
     },
     "execution_count": 104,
     "metadata": {},
     "output_type": "execute_result"
    },
    {
     "data": {
      "image/png": "[encoded data removed]",
      "text/plain": [
       "<Figure size 640x480 with 1 Axes>"
      ]
     },
     "metadata": {},
     "output_type": "display_data"
    }
   ],
   "source": [
    "plt.step(x2_math,y2_math) #ploteamos x_math contra y_math para representar F(x) de la distribución exponencial(lambda)\n",
    "plt.axhline(y=0.5, color='red') #La mediana\n",
    "plt.axvline(x=media2,color='green') #La media"
   ]
  }
 ],
 "metadata": {
  "colab": {
   "provenance": []
  },
  "kernelspec": {
   "display_name": "Python 3 (ipykernel)",
   "language": "python",
   "name": "python3"
  },
  "language_info": {
   "codemirror_mode": {
    "name": "ipython",
    "version": 3
   },
   "file_extension": ".py",
   "mimetype": "text/x-python",
   "name": "python",
   "nbconvert_exporter": "python",
   "pygments_lexer": "ipython3",
   "version": "3.11.7"
  }
 },
 "nbformat": 4,
 "nbformat_minor": 5
}
