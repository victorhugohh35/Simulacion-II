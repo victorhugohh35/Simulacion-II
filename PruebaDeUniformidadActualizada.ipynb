{
 "cells": [
  {
   "cell_type": "markdown",
   "metadata": {
    "colab_type": "text",
    "id": "view-in-github"
   },
   "source": [
    "<a href=\"https://colab.research.google.com/github/victorhugohh35/Simulacion-II/blob/main/Pruebadeuniformidad.ipynb\" target=\"_parent\"><img src=\"https://colab.research.google.com/assets/colab-badge.svg\" alt=\"Open In Colab\"/></a>"
   ]
  },
  {
   "cell_type": "code",
   "execution_count": 1,
   "metadata": {},
   "outputs": [],
   "source": [
    "#Prueba de uniformidad (0,1) chi-cuadrada\n",
    "#Victor Hugo Hernandez Hernandez"
   ]
  },
  {
   "cell_type": "markdown",
   "metadata": {
    "id": "KUjBXeRsURAp"
   },
   "source": [
    "## Prueba de uniformidad $\\chi^2$"
   ]
  },
  {
   "cell_type": "markdown",
   "metadata": {
    "id": "l0GWErbEWfw0"
   },
   "source": [
    "En general, la prueba de bondad chi-cuadrada busca determinar si los números del conjunto de datos $t=\\{t_1,t_2,...,t_m\\}$ se distribuyen de manera uniforme en el intervalo (0,1). Para llevar a cabo esta prueba es necesario dividir el intervalo (0,1) en n sub-intervalos(clases),es recomendable usar un número de clases $n=\\sqrt T$ donde $T$ es el número total de observaciones o datos. Luego se clasifica cada elemento del conjunto $t$ en las $n$ clases. A la cantidad de números $t_i$  que se clasifican en cada clase se le denomina frecuencia observada $O_i$, y a la cantidad de números $t_i$ que se espera encontrar en cada intervalo se le llama frecuencia esperada $E_i$ ; teóricamente dado que se trata de una distribución uniforme(0,1), $E_i=\\frac{T}{n}$. A partir de los valores de $O_i$ y $E_i$, se determina el estadístico $\\chi^2$ mediante la ecuación:\n",
    "\\begin{equation}\n",
    "\\chi^2_c = \\sum_{i=1}^{n} \\frac{(O_i - E_i)^2}{E_i}\n",
    "\\end{equation}\n",
    "Si el valor estadistico $\\chi^2_c$ es menor al de tablas de $\\chi^2_{1-\\alpha,n-1}$ donde $n-1$ son los grados de libertad y $1-\\alpha$ el nivel de confianza($\\alpha$ es el nivel de significancia el cual representa la probabilidad de cometer un error de tipo I al rechazar incorrectamente la hipótesis nula cuando en realidad es verdadera), entonces no se puede rechazar la $H_0$.\n",
    "\n",
    "$H_0$: Los números del conjunto $t=\\{t_1,t_2,...,t_m\\}$ se distribuyen de manera uniforme en el intervalo (0,1).\n",
    "\n",
    "$H_a$: Los números del conjunto $t=\\{t_1,t_2,...,t_m\\}$ no se distribuyen de manera uniforme en el intervalo (0,1)."
   ]
  },
  {
   "cell_type": "markdown",
   "metadata": {
    "id": "iVKlItHRjWdp"
   },
   "source": [
    "**Implementamos la prueba descrita en Python.**\n"
   ]
  },
  {
   "cell_type": "markdown",
   "metadata": {},
   "source": [
    "Importamos la libreria que nos brindara el valor crítico de la distribución chi-chuadrada equivalente al que obtendriamos en tabla"
   ]
  },
  {
   "cell_type": "code",
   "execution_count": 2,
   "metadata": {},
   "outputs": [],
   "source": [
    "from scipy.stats import chi2"
   ]
  },
  {
   "cell_type": "markdown",
   "metadata": {},
   "source": [
    "Importamos la libreria que nos ayudara a generar numeros aleatorias uniformes."
   ]
  },
  {
   "cell_type": "code",
   "execution_count": 3,
   "metadata": {},
   "outputs": [],
   "source": [
    "import numpy as np"
   ]
  },
  {
   "cell_type": "markdown",
   "metadata": {},
   "source": [
    "Importamos la libreria para hacer operaciones matematicas como la raíz cuadrada, etc."
   ]
  },
  {
   "cell_type": "code",
   "execution_count": 4,
   "metadata": {},
   "outputs": [],
   "source": [
    "import math "
   ]
  },
  {
   "cell_type": "markdown",
   "metadata": {
    "id": "5i_yj-FTjnxC"
   },
   "source": [
    "**Tenemos dos opciones**\n",
    "1. Introducimos los a datos a los cuales queremos aplicar la prueba."
   ]
  },
  {
   "cell_type": "code",
   "execution_count": 5,
   "metadata": {
    "colab": {
     "base_uri": "https://localhost:8080/"
    },
    "id": "0sHK3d01mz20",
    "outputId": "a815be9a-0cb9-44c7-9ff0-6a9b9474ea44"
   },
   "outputs": [],
   "source": [
    "#datos problema 3\n",
    "#datos = [38, 33, 25, 5, 69, 35, 98, 52, 12, 79,\n",
    "#        50, 46, 95, 42, 49, 11, 78, 34, 2, 43,\n",
    "#        7, 50, 5, 91, 77, 18, 21, 4, 17, 62,\n",
    "#        91, 36, 48, 88, 52, 76, 99, 73, 82, 90]\n",
    "#datos problema 4\n",
    "datos = [0.8797, 0.3884, 0.6289, 0.8750, 0.5999, 0.8589, 0.9996, 0.2415, 0.3808, 0.9606,\n",
    "        0.9848, 0.3469, 0.7977, 0.5844, 0.8147, 0.6431, 0.7387, 0.5613, 0.0318, 0.7401,\n",
    "        0.4557, 0.1592, 0.8536, 0.8846, 0.3410, 0.1492, 0.8681, 0.5291, 0.3188, 0.5992,\n",
    "        0.9170, 0.2204, 0.5991, 0.5461, 0.5739, 0.3254, 0.0856, 0.2258, 0.4603, 0.5027,\n",
    "        0.8376, 0.6235, 0.3681, 0.2088, 0.1525, 0.2006, 0.4720, 0.4272, 0.6360, 0.0954]"
   ]
  },
  {
   "cell_type": "markdown",
   "metadata": {},
   "source": [
    "2. Generamos $m$ números aleatorios uniformes(0,1) con la libreria antes importada\n",
    "\n",
    "NOTA: Eliminar los \"#\" en caso de querer utilizarla y poner \"#\" a la instrucción anterior"
   ]
  },
  {
   "cell_type": "code",
   "execution_count": 6,
   "metadata": {},
   "outputs": [],
   "source": [
    "#m = 50\n",
    "#datos = np.random.uniform(0, 1, m) #generamos m numeros aleatorios segun lo requeramos"
   ]
  },
  {
   "cell_type": "markdown",
   "metadata": {},
   "source": [
    "Pedimos al usuario ingresar  nivel de significancia requerido"
   ]
  },
  {
   "cell_type": "code",
   "execution_count": 7,
   "metadata": {},
   "outputs": [
    {
     "name": "stdout",
     "output_type": "stream",
     "text": [
      "Introduce el nivel de signficancia(como porcentaje decimal):0.05\n"
     ]
    }
   ],
   "source": [
    "alpha = float(input(\"Introduce el nivel de signficancia(como porcentaje decimal):\"))"
   ]
  },
  {
   "cell_type": "markdown",
   "metadata": {
    "id": "wDGooFP-m6TS"
   },
   "source": [
    "En caso de que sea necesario, normalizamos los datos para que se encuentren en el rango de (0,1)."
   ]
  },
  {
   "cell_type": "code",
   "execution_count": 8,
   "metadata": {
    "id": "czZ3cunjoK6_"
   },
   "outputs": [],
   "source": [
    "#verificamos que los datos esten normalizados en (0,1)\n",
    "if 0 < max(datos) < 1:\n",
    "    datos_normalizados = datos\n",
    "else: #si los datos no estan normalizados realizamos un ajuste\n",
    "    longitud = len(str(int(max(datos)))) #longitud del numero entero maximo de los datos\n",
    "    datos_normalizados = [elemento / (10**longitud) for elemento in datos] #normalizamos"
   ]
  },
  {
   "cell_type": "markdown",
   "metadata": {
    "id": "2QgzuGCpqMTa"
   },
   "source": [
    "Calculamos $T$ (número total de observaciones)"
   ]
  },
  {
   "cell_type": "code",
   "execution_count": 9,
   "metadata": {},
   "outputs": [],
   "source": [
    "T=len(datos) #numero total de datos"
   ]
  },
  {
   "cell_type": "markdown",
   "metadata": {
    "id": "2QgzuGCpqMTa"
   },
   "source": [
    "Calculamos $n$ (número de clases recomendada)"
   ]
  },
  {
   "cell_type": "code",
   "execution_count": 10,
   "metadata": {},
   "outputs": [],
   "source": [
    "n=math.floor(math.sqrt(T))  #numero de clases recomendado"
   ]
  },
  {
   "cell_type": "markdown",
   "metadata": {},
   "source": [
    "La siguiente intrucción asignara intervalos de la misma longitud para cada una de las clases."
   ]
  },
  {
   "cell_type": "code",
   "execution_count": 11,
   "metadata": {
    "id": "bl3l0iWQqP7h"
   },
   "outputs": [],
   "source": [
    "clasediv=1/n #para asignar cada elemento de los datos a una clase, tomando en cuenta que es uniforme"
   ]
  },
  {
   "cell_type": "markdown",
   "metadata": {},
   "source": [
    "Inicializamos el valor del estadistico $\\chi^2$ en 0."
   ]
  },
  {
   "cell_type": "code",
   "execution_count": 12,
   "metadata": {},
   "outputs": [],
   "source": [
    "chicuadrada=0 #inicializamos el valor del estadistico chi cuadrada en 0"
   ]
  },
  {
   "cell_type": "markdown",
   "metadata": {
    "id": "3uVqw1YhmXxr"
   },
   "source": [
    "Calculamos los valores esperados para cada clase(los $E_i$), que en este caso al ser uniforme, es la misma para todas."
   ]
  },
  {
   "cell_type": "code",
   "execution_count": 13,
   "metadata": {
    "id": "qu6GNkq4mmkL"
   },
   "outputs": [],
   "source": [
    "E = T/n #numero esperado de datos en la clase i(uniforme)"
   ]
  },
  {
   "cell_type": "markdown",
   "metadata": {
    "id": "jqvqK_N9nnxK"
   },
   "source": [
    "Y ahora los valores observados para cada clase(los $O_i$), supongamos que $clase_i$ se en cuentra en el intervalo $[a_i,a_{i+1})$, la siguiente instrucción verifica si cada uno de los elementos del conjunto de datos $t=\\{t_1,t_2,...,t_m\\}$  se encuentra entre $[a_i,a_{i+1})$, de ser cierto lo asigna a la $clase_i$, de lo contrario continuara probando con la $clase_{i+1}$ que esta en el intervalo $[a_{i+1},a_{i+2})$, y así sucesivamente hasta quedar asignado en una clase tras haber recorrido el total de clases $n$."
   ]
  },
  {
   "cell_type": "code",
   "execution_count": 14,
   "metadata": {
    "id": "61cTt0f2nZbb"
   },
   "outputs": [],
   "source": [
    "for i in range(n): #para recorrer las n clases\n",
    "    contador = 0\n",
    "    for j in range(T): #para reccorer desde t_1 hasta t_m\n",
    "        if (clasediv*(i))<=datos_normalizados[j]<(clasediv*(i+1)):\n",
    "            contador +=1\n",
    "    chicuadrada= chicuadrada + (contador-E)**2"
   ]
  },
  {
   "cell_type": "markdown",
   "metadata": {
    "id": "CuA60gdxrmqT"
   },
   "source": [
    "Notemos que en la última linea se está calculando \\begin{equation}\n",
    "\\chi^2_c = \\sum_{i=1}^{n} (O_i - E_i)^2\n",
    "\\end{equation}\n",
    "Asi que queda dividir entre $E_i$ para finalmente obtener\n",
    "\\begin{equation}\n",
    "\\chi^2_c = \\sum_{i=1}^{n} \\frac{(O_i - E_i)^2}{E_i}\n",
    "\\end{equation}"
   ]
  },
  {
   "cell_type": "code",
   "execution_count": 15,
   "metadata": {
    "id": "ySTFtmr0rtzx"
   },
   "outputs": [],
   "source": [
    "chicuadrada = chicuadrada/E #obtenemos el valor final del estadistico"
   ]
  },
  {
   "cell_type": "markdown",
   "metadata": {},
   "source": [
    "Calculamos los grado de libertad($n-1$)"
   ]
  },
  {
   "cell_type": "code",
   "execution_count": 16,
   "metadata": {},
   "outputs": [],
   "source": [
    "gl = n-1  # Grados de libertad que nos ayudara para la prueba final"
   ]
  },
  {
   "cell_type": "markdown",
   "metadata": {},
   "source": [
    "Ahora queda calcular el valor crítico, que es el que obtendriamos en las tablas de la distribución $\\chi^2_{1-\\alpha,n-1}$, usamos el $\\alpha$ ingresado por el usuario y los grados de libertad(gl) que calculamos antes en funcion de el número de clases($n$)"
   ]
  },
  {
   "cell_type": "code",
   "execution_count": 17,
   "metadata": {
    "id": "qYoqarwJtfVt"
   },
   "outputs": [],
   "source": [
    "valor_critico = chi2.ppf(1-alpha, gl)"
   ]
  },
  {
   "cell_type": "markdown",
   "metadata": {
    "id": "7M0fuwv9uwZD"
   },
   "source": [
    "Finalmente, imprimimos los resultados, de acuerdo a la $H_0$ e $H_a$ establecida al principio."
   ]
  },
  {
   "cell_type": "code",
   "execution_count": 18,
   "metadata": {
    "colab": {
     "base_uri": "https://localhost:8080/"
    },
    "id": "BXzqaPdXwbUB",
    "outputId": "f7d187e9-3ecf-4078-ed12-1c839057caf7"
   },
   "outputs": [
    {
     "name": "stdout",
     "output_type": "stream",
     "text": [
      "El numero de clases es:  7\n",
      "El valor del estadistico es:  3.7599999999999993\n",
      "El valor crítico es:  12.591587243743977\n",
      "El grados de libertad  fueron:  6\n",
      "El nivel de confianza fue:  0.95\n",
      "Dado que valor estadistico <= valor critico, No rechazamos  H_0, es decir no hay diferencia entre la distribución de la muestra y la distribución uniforme(0,1).\n"
     ]
    }
   ],
   "source": [
    "##imprimimos resultados##\n",
    "print(\"El numero de clases es: \",n)\n",
    "print(\"El valor del estadistico es: \",chicuadrada)\n",
    "print(\"El valor crítico es: \",valor_critico)\n",
    "print(\"El grados de libertad  fueron: \",gl)\n",
    "print(\"El nivel de confianza fue: \",1-alpha)\n",
    "if chicuadrada <= valor_critico:\n",
    "  print(\"Dado que valor estadistico <= valor critico, No rechazamos  H_0, es decir no hay diferencia entre la distribución de la muestra y la distribución uniforme(0,1).\")\n",
    "else:\n",
    "  print(\"Dado que valor estadistico > valor critico, Rechazamos H_0, es decir hay diferencia entre la distribución de la muestra y la distribución uniforme(0,1).\")"
   ]
  },
  {
   "cell_type": "code",
   "execution_count": null,
   "metadata": {},
   "outputs": [],
   "source": []
  }
 ],
 "metadata": {
  "colab": {
   "authorship_tag": "ABX9TyOuezMP8DC0bTQTI52RqD6r",
   "include_colab_link": true,
   "provenance": []
  },
  "kernelspec": {
   "display_name": "Python 3",
   "language": "python",
   "name": "python3"
  },
  "language_info": {
   "codemirror_mode": {
    "name": "ipython",
    "version": 3
   },
   "file_extension": ".py",
   "mimetype": "text/x-python",
   "name": "python",
   "nbconvert_exporter": "python",
   "pygments_lexer": "ipython3",
   "version": "3.8.5"
  }
 },
 "nbformat": 4,
 "nbformat_minor": 1
}
