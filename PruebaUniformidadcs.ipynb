{
  "nbformat": 4,
  "nbformat_minor": 0,
  "metadata": {
    "colab": {
      "provenance": [],
      "authorship_tag": "ABX9TyNN06vVBwqrwK+D1zBeQ0Y6",
      "include_colab_link": true
    },
    "kernelspec": {
      "name": "python3",
      "display_name": "Python 3"
    },
    "language_info": {
      "name": "python"
    }
  },
  "cells": [
    {
      "cell_type": "markdown",
      "metadata": {
        "id": "view-in-github",
        "colab_type": "text"
      },
      "source": [
        "<a href=\"https://colab.research.google.com/github/victorhugohh35/Simulacion-II/blob/main/PruebaUniformidadcs.ipynb\" target=\"_parent\"><img src=\"https://colab.research.google.com/assets/colab-badge.svg\" alt=\"Open In Colab\"/></a>"
      ]
    },
    {
      "cell_type": "markdown",
      "source": [
        "## Prueba de uniformidad $\\chi^2$"
      ],
      "metadata": {
        "id": "KUjBXeRsURAp"
      }
    },
    {
      "cell_type": "markdown",
      "source": [
        "La prueba chi-cuadrada busca determinar si los números del conjunto $t_i$ se distribuyen de manera uniforme en el intervalo (0,1). Para llevar a cabo esta prueba es necesario dividir el intervalo (0,1) en n sub-intervalos(clases),es recomendable usar $n=\\sqrt T$ donde $T$ es el númeron total de observaciones o datos. Luego se clasifica cada número del conjunto $t$ en las $n$ clases. A la cantidad de números $t_i$  que se clasifican en cada clase se le denomina frecuencia observada $O_i$, y a la cantidad de números $t_i$ que se espera encontrar en cada intervalo se le llama frecuencia esperada $E_i$ ; teóricamente, la $E_i$ es igual a $E_i=\\frac{T}{n}$. A partir de los valores de $O_i$ y $E_i$, se determina el estadístico $\\chi^2$ mediante la ecuación:\n",
        "\\begin{equation}\n",
        "\\chi^2_c = \\sum_{i=1}^{n} \\frac{(O_i - E_i)^2}{E_i}\n",
        "\\end{equation}\n",
        "Si el valor estadistico $\\chi^2_c$ es menor al de tablas de $\\chi^2_{\\alpha,n-1}$ donde $n-1$ son los grados de libertad y $1-\\alpha$ el nivel de aceptación, entonces no se puede rechazar $H_0$:que el conjunto de números $t_i$ sigue un distribución uniforme."
      ],
      "metadata": {
        "id": "l0GWErbEWfw0"
      }
    },
    {
      "cell_type": "code",
      "source": [],
      "metadata": {
        "id": "zviG_oFzxibf"
      },
      "execution_count": null,
      "outputs": []
    },
    {
      "cell_type": "code",
      "source": [
        "#Prueba de uniformidad (0,1) chi-cuadrada\n",
        "#Victor Hugo Hernandez Hernandez\n",
        "\n",
        "from scipy.stats import chi2\n",
        "import math\n",
        "#datos = [38, 33, 25, 5, 69, 35, 98, 52, 12, 79,\n",
        "#        50, 46, 95, 42, 49, 11, 78, 34, 2, 43,\n",
        "#        7, 50, 5, 91, 77, 18, 21, 4, 17, 62,\n",
        "#        91, 36, 48, 88, 52, 76, 99, 73, 82, 90]\n",
        "datos = [0.8797, 0.3884, 0.6289, 0.8750, 0.5999, 0.8589, 0.9996, 0.2415, 0.3808, 0.9606,\n",
        "        0.9848, 0.3469, 0.7977, 0.5844, 0.8147, 0.6431, 0.7387, 0.5613, 0.0318, 0.7401,\n",
        "        0.4557, 0.1592, 0.8536, 0.8846, 0.3410, 0.1492, 0.8681, 0.5291, 0.3188, 0.5992,\n",
        "        0.9170, 0.2204, 0.5991, 0.5461, 0.5739, 0.3254, 0.0856, 0.2258, 0.4603, 0.5027,\n",
        "        0.8376, 0.6235, 0.3681, 0.2088, 0.1525, 0.2006, 0.4720, 0.4272, 0.6360, 0.0954]\n",
        "alpha = float(input(\"Introduce el nivel de aceptación(como porcentaje decimal):\"))\n",
        "#verificamos que los datos esten normalizados en (0,1)\n",
        "if 0 < max(datos) < 1:\n",
        "    datos_normalizados = datos\n",
        "else: #si los datos no estan normalizados realizamos un ajuste\n",
        "    longitud = len(str(int(max(datos)))) #longitud del numero entero maximo de los datos\n",
        "    datos_normalizados = [elemento / (10**longitud) for elemento in datos] #normalizamos\n",
        "\n",
        "T=len(datos) #numero total de datos\n",
        "n=math.floor(math.sqrt(T))  #numero de clases recomendado\n",
        "gl = n-1  # Grados de libertad que nos ayudara para la prueba final\n",
        "E = T/n #numero esperado en la clase i(uniforme)\n",
        "clasediv=1/n #para asignar cada elemento de los datos a una clase\n",
        "chicuadrada=0 #inicializamos el valor del estadistico chi cuadrada en 0\n",
        "for i in range(n):\n",
        "    contador = 0\n",
        "    for j in range(T):\n",
        "        if (clasediv*(i))<=datos_normalizados[j]<(clasediv*(i+1)):\n",
        "            contador +=1\n",
        "    chicuadrada= chicuadrada + (contador-E)**2\n",
        "\n",
        "chicuadrada = chicuadrada/E #obtenemos el valor final del estadistico\n",
        "valor_critico = chi2.ppf(alpha, gl)\n",
        "\n",
        "##imprimimos resultados##\n",
        "print(\"El numero de clases es: \",n)\n",
        "print(\"El valor del estadistico es: \",chicuadrada)\n",
        "print(\"El valor critico es: \",valor_critico)\n",
        "if chicuadrada <= valor_critico:\n",
        "  print(\"Dado que valor estadistico <= valor critico, No rechazamos  H_0, es decir no hay diferencia entre la distribución de la muestra y la distribución teórica.\")\n",
        "else:\n",
        "  print(\"Dado que valor estadistico > valor critico, Rechazamos H_0,es decir los datos proporcionan suficiente evidencia para concluir que la hipótesis nula es poco probable.\")"
      ],
      "metadata": {
        "colab": {
          "base_uri": "https://localhost:8080/"
        },
        "id": "il2r9z3agXHd",
        "outputId": "f68ce339-a351-498b-defe-1d6dd92ffcf5"
      },
      "execution_count": 19,
      "outputs": [
        {
          "output_type": "stream",
          "name": "stdout",
          "text": [
            "Introduce el nivel de aceptación(como porcentaje decimal):0.95\n",
            "El numero de clases es:  7\n",
            "El valor del estadistico es:  3.7599999999999993\n",
            "El valor critico es:  12.591587243743977\n",
            "Dado que valor estadistico <= valor critico, No rechazamos  H_0, es decir no hay diferencia entre la distribución de la muestra y la distribución teórica.\n"
          ]
        }
      ]
    },
    {
      "cell_type": "code",
      "source": [],
      "metadata": {
        "id": "3F_jKAJ5gHpu"
      },
      "execution_count": null,
      "outputs": []
    }
  ]
}