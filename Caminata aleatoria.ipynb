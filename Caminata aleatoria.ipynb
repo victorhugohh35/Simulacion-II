{
 "cells": [
  {
   "cell_type": "markdown",
   "id": "4ef69d90-3918-42f4-b152-be2348a3364a",
   "metadata": {},
   "source": [
    "# Caminata aleatoria en 1D"
   ]
  },
  {
   "cell_type": "markdown",
   "id": "6ea1d67a-b0ac-49eb-8ab3-23955918b825",
   "metadata": {},
   "source": [
    "¿Cúal es la probabilidad de que inicio en la posición 0 y regrese a esta en $m$ pasos?. \n",
    "Es decir $P_{00}^{(m)}$\n",
    "# Analítica"
   ]
  },
  {
   "cell_type": "markdown",
   "id": "07f849da-03a2-493c-8a83-d3edcff43329",
   "metadata": {},
   "source": [
    "En particular la probabilidad $P_{00}^{(m)}$, observemos que esta misma se encuentra dada por la probbailidad de iniciar en 0 y regresar a 0 en $m$ pasos, ahora bien, si $m=2n+1$ esta probabilidad es 0, debido a que no podemos regresar en esta cantidad de pasos, al menos debemos dar $n$ pasos a la derecha y $n$ pasos a la izquierda."
   ]
  },
  {
   "cell_type": "markdown",
   "id": "272f0f04-9669-4017-b278-620a425d05ca",
   "metadata": {},
   "source": [
    "Entonces del razonamiento anterior hemos obtenido que \n",
    "\\begin{equation*}\n",
    "\\begin{aligned}\n",
    "\\forall n \\in \\mathbb{N} \\quad \\quad P_{00}^{(2n+1)}=0\n",
    "\\end{aligned}\n",
    "\\end{equation*}"
   ]
  },
  {
   "cell_type": "markdown",
   "id": "98b0348c-2b65-4441-97ec-9502d1446140",
   "metadata": {},
   "source": [
    "Ahora resta estudiar el caso para $m=2n$, observemos que este caso es posible debido a que podemos dar $n$ pasos a la derecha y $n$ paso a la izquierda a fin de regresar a la posición original, lo único que nos resta es identificar es el orden de la posible trayectoria. Debido a esto, podemos señalar que la probabilidad para este caso se encuentra dada por:\n",
    "\\begin{equation*}\n",
    "\\begin{aligned}\n",
    "\\forall n \\in \\mathbb{N} \\quad \\quad P_{00}^{(2n)}= \\binom{2n}{n} p^n (1-p)^n = \\frac{(2n)!}{n!n!}p^n (1-p)^n = \\frac{(2n)!}{(n!)^2}p^2(1-p)^n\n",
    "\\end{aligned}\n",
    "\\end{equation*}\n",
    "Considerando que la aproximación de ***Stirling*** es de la forma:\n",
    "\\begin{equation*}\n",
    "\\begin{aligned}\n",
    "n! \\sim n^{n+\\frac{1}{2}} e^{-n} \\sqrt{2\\pi}, \n",
    "\\end{aligned}\n",
    "\\end{equation*}\n",
    "empleando dicha aproximación para determinar los valores de los factoriales, se obtiene que la expresión es similar a\n",
    "\\begin{equation*}\n",
    "\\begin{aligned}\n",
    "\\frac{(2n)!}{(n!)^2}  &\\sim \\frac{2n^{2n+\\frac{1}{2}} e^{-2n} \\sqrt{2\\pi}}{\\left(n^{n+\\frac{1}{2}} e^{-n} \\sqrt{2\\pi}\\right)^2} = \\frac{(2n)^{2n}\\sqrt{2n}e^{-2n}\\sqrt{2\\pi}}{n^{2n+1}e^{-2n}(2\\pi)} = \\frac{4^nn^{2n}\\sqrt{2n}}{n^{2n+1}\\sqrt{2\\pi}}\\\\\n",
    "&=\\frac{4^n\\sqrt{2}\\sqrt{n}}{n\\sqrt{2}\\sqrt{\\pi}} = \\frac{4^n}{\\sqrt{n\\pi}}\n",
    "\\end{aligned}\n",
    "\\end{equation*}\n",
    "Por lo que, al sustituir dicha expresión se obtiene la siguiente, la cual es más simple de determinar:\n",
    "\\begin{equation*}\n",
    "\\begin{aligned}\n",
    "P_{00}^{(2n)}= \\frac{4^n}{\\sqrt{n\\pi}} p^n (1-p)^n = \\frac{\\left(4p(1-p)\\right)^n}{\\sqrt{n\\pi}}\n",
    "\\end{aligned}\n",
    "\\end{equation*}\n",
    "Recordando que $p \\in [0,1]$, entonces es facil ver que:\n",
    "\\begin{equation*}\n",
    "\\begin{aligned}\n",
    "4p(1-p) \\leq 1\n",
    "\\end{aligned}\n",
    "\\end{equation*}\n",
    "Y por el criterio de ***D´ Alambert***, debemos analizar:\n",
    "\\begin{equation*}\n",
    "\\begin{aligned}\n",
    "\\lim_{n \\to \\infty} \\frac{\\frac{(4p(1-p))^{n+1}}{\\sqrt{\\pi(n+1)}}}{\\frac{(4p(1-p))^n}{\\sqrt{\\pi n}}} = \\lim_{n \\to \\infty} \\frac{(4p(1-p))^{n+1} \\sqrt{\\pi n}}{(4p(1-p))^n \\sqrt{\\pi (n+1)}} = \\lim_{n \\to \\infty} (4p(1-p))\\sqrt{\\frac{n}{n+1}} = 4p(1-p)\n",
    "\\end{aligned}\n",
    "\\end{equation*}\n",
    "en donde se observa que siempre que $p \\neq \\frac{1}{2}$, la cadena de *Markov* será transitoria, es decir, hay probabilidad positiva que no regrese al estado de inicio. En el caso que $p = \\frac{1}{2}$ entonces la cadena de *Markov* es recurrente, es decir, la probabilidad que regrese al estado de incio es 1. (Es simetrica, misma probabilidad de ir de A a B como de B a A) "
   ]
  },
  {
   "cell_type": "markdown",
   "id": "d306588e-5c5b-4b19-b851-7bb9831f08ae",
   "metadata": {},
   "source": [
    "# Simulación"
   ]
  },
  {
   "cell_type": "markdown",
   "id": "f98ba96e-59a5-4c5d-9af6-5fb093f40b8c",
   "metadata": {},
   "source": [
    "# 1 Solo tiro. $p=\\frac{1}{2}$"
   ]
  },
  {
   "cell_type": "code",
   "execution_count": 3,
   "id": "2ee41f0b-aae1-4679-b656-81a771e509d7",
   "metadata": {},
   "outputs": [
    {
     "name": "stdout",
     "output_type": "stream",
     "text": [
      "30\n"
     ]
    }
   ],
   "source": [
    "from turtle import *\n",
    "import random\n",
    "\n",
    "speed(1)  # Cambia la velocidad de la tortuga (1 es la más lenta, 10 es la más rápida)\n",
    "shape('turtle')  # Cambia la forma de la tortuga a una flecha\n",
    "\n",
    "color('brown', 'green')\n",
    "tamaño = 20\n",
    "k = 1\n",
    "while True:\n",
    "    u = random.random()\n",
    "    if u<0.5:\n",
    "        angulo = 0 #Avanzara hacia adelante la tortuga\n",
    "    else:\n",
    "        angulo = 180 #Retrocede la tortuga\n",
    "    forward(tamaño) #Que tanto avanzara\n",
    "    left(angulo) #En que dirección\n",
    "    if abs(pos()) < 1:\n",
    "        break\n",
    "    k = k+1\n",
    "print(k) #Cuantos pasos dio para regresar al inicio.\n",
    "\n",
    "done()"
   ]
  },
  {
   "cell_type": "markdown",
   "id": "ccd7b230-0d39-4057-a742-b1317c4aad4d",
   "metadata": {},
   "source": [
    "# Todos los tiros $p=\\frac{1}{2}$"
   ]
  },
  {
   "cell_type": "code",
   "execution_count": 16,
   "id": "d5be0ef3-60ea-485b-a675-b96c20f6c05d",
   "metadata": {},
   "outputs": [
    {
     "name": "stdout",
     "output_type": "stream",
     "text": [
      "0.920813\n"
     ]
    }
   ],
   "source": [
    "import random\n",
    "\n",
    "N = 1000000\n",
    "suma = 0\n",
    "pasos = 100\n",
    "\n",
    "for i in range(1, N+1): \n",
    "    paro = 1\n",
    "    trayectoria = 0 #LA posición inicial es 0.\n",
    "    while True:\n",
    "        u = random.random() #Para una Bernoulli\n",
    "        if u < 0.5:\n",
    "            trayectoria += 1 #Avanza hacia adelante 1 paso\n",
    "        else:\n",
    "            trayectoria += -1 #Retrocede 1 paso\n",
    "        if paro <= pasos: #Si paro es antes de la cantidad de pasos que colcoamos (para que no se vaya a infinito)\n",
    "            if trayectoria == 0:  #Si regresa a su poaicion original o de inicio\n",
    "                acierto = 1 #Es un acierto\n",
    "                break\n",
    "        else: \n",
    "            acierto = 0 #Si no regresa a su posición de inicio en menos de tales pasos, se considerara 0 (un error)\n",
    "            break\n",
    "        paro += 1\n",
    "    suma += acierto  # Acumulación de los aciertos en cada iteración\n",
    "\n",
    "proba = suma / N  # Cálculo de la probabilidad que regrese al punto de inicio.\n",
    "print(proba)\n"
   ]
  },
  {
   "cell_type": "markdown",
   "id": "f5f836e3-ef58-4d4f-867a-15c4660a605a",
   "metadata": {},
   "source": [
    "# Con otra probabilidad"
   ]
  },
  {
   "cell_type": "code",
   "execution_count": 3,
   "id": "bded102d-f6a5-43e2-8fc0-a668accce792",
   "metadata": {},
   "outputs": [
    {
     "name": "stdout",
     "output_type": "stream",
     "text": [
      "0.20173\n"
     ]
    }
   ],
   "source": [
    "import random\n",
    "\n",
    "N = 100000\n",
    "suma = 0\n",
    "pasos = 100\n",
    "\n",
    "for i in range(1, N+1): \n",
    "    paro = 1\n",
    "    trayectoria = 0 #LA posición inicial es 0.\n",
    "    while True:\n",
    "        u = random.random() #Para una Bernoulli\n",
    "        if u < 0.9:\n",
    "            trayectoria += 1 #Avanza hacia adelante 1 paso\n",
    "        else:\n",
    "            trayectoria += -1 #Retrocede 1 paso\n",
    "        if paro <= pasos: #Si paro es antes de la cantidad de pasos que colcoamos (para que no se vaya a infinito)\n",
    "            if trayectoria == 0:  #Si regresa a su poaicion original o de inicio\n",
    "                acierto = 1 #Es un acierto\n",
    "                break\n",
    "        else: \n",
    "            acierto = 0 #Si no regresa a su posición de inicio en menos de tales pasos, se considerara 0 (un error)\n",
    "            break\n",
    "        paro += 1\n",
    "    suma += acierto  # Acumulación de los aciertos en cada iteración\n",
    "\n",
    "proba = suma / N  # Cálculo de la probabilidad que regrese al punto de inicio.\n",
    "print(proba)\n"
   ]
  },
  {
   "cell_type": "code",
   "execution_count": null,
   "id": "c1b34b13-da4b-4f71-abba-02b888f89df7",
   "metadata": {},
   "outputs": [],
   "source": []
  }
 ],
 "metadata": {
  "kernelspec": {
   "display_name": "Python 3 (ipykernel)",
   "language": "python",
   "name": "python3"
  },
  "language_info": {
   "codemirror_mode": {
    "name": "ipython",
    "version": 3
   },
   "file_extension": ".py",
   "mimetype": "text/x-python",
   "name": "python",
   "nbconvert_exporter": "python",
   "pygments_lexer": "ipython3",
   "version": "3.11.7"
  }
 },
 "nbformat": 4,
 "nbformat_minor": 5
}
