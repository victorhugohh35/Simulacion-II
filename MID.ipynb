{
  "nbformat": 4,
  "nbformat_minor": 0,
  "metadata": {
    "colab": {
      "provenance": [],
      "authorship_tag": "ABX9TyOLg+JwIZK8Bhvv3MhPOqYr",
      "include_colab_link": true
    },
    "kernelspec": {
      "name": "python3",
      "display_name": "Python 3"
    },
    "language_info": {
      "name": "python"
    }
  },
  "cells": [
    {
      "cell_type": "markdown",
      "metadata": {
        "id": "view-in-github",
        "colab_type": "text"
      },
      "source": [
        "<a href=\"https://colab.research.google.com/github/victorhugohh35/Simulacion-II/blob/main/MID.ipynb\" target=\"_parent\"><img src=\"https://colab.research.google.com/assets/colab-badge.svg\" alt=\"Open In Colab\"/></a>"
      ]
    },
    {
      "cell_type": "code",
      "execution_count": 2,
      "metadata": {
        "colab": {
          "base_uri": "https://localhost:8080/"
        },
        "id": "xCttK0A23xO5",
        "outputId": "2230b5db-a811-448e-c3c1-a1f573912f46"
      },
      "outputs": [
        {
          "output_type": "stream",
          "name": "stdout",
          "text": [
            "Ingrese el número de iteraciones: 10\n",
            "Ingrese la semilla inicial(8 digitos): 18754607\n",
            "\n",
            "Numeros aleatorios generados:\n",
            "0.56942116\n",
            "0.8875524100000001\n",
            "0.57032704\n",
            "0.00106929\n",
            "0.01142761\n",
            "0.02036329\n",
            "0.00131769\n",
            "0.01734489\n",
            "0.53934336\n",
            "0.8729164899999999\n"
          ]
        }
      ],
      "source": [
        "#Mid Square Method\n",
        "#Victor Hugo Hernandez Hernandez\n",
        "iteraciones = int(input(\"Ingrese el número de iteraciones: \"))\n",
        "semilla = int(input(\"Ingrese la semilla inicial(8 digitos): \"))\n",
        "\n",
        "nums_aleatorios = []\n",
        "\n",
        "for i in range(iteraciones):\n",
        "    digitos_medios = (semilla % 1000000) // 100\n",
        "    semilla_cuadrada = digitos_medios * digitos_medios\n",
        "    subrandom = semilla_cuadrada / 10000\n",
        "    random = subrandom / 10000\n",
        "    nums_aleatorios.append(random)\n",
        "\n",
        "    semilla = semilla_cuadrada\n",
        "\n",
        "print(\"\\nNumeros aleatorios generados:\")\n",
        "for num in nums_aleatorios:\n",
        "    print(num)"
      ]
    }
  ]
}