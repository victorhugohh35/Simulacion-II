{
 "cells": [
  {
   "cell_type": "markdown",
   "id": "a5cc0a87",
   "metadata": {},
   "source": [
    "# Aproximación a $\\pi$ por medio de Monte Carlo Acierto y Error (Hit or Miss) con METODOLOGÍA"
   ]
  },
  {
   "cell_type": "markdown",
   "id": "0e218d98",
   "metadata": {},
   "source": [
    "### 1. Identifique las variables \n",
    "\n",
    "Aquellas cuyo comportamiento define el comportamiento o la evoución global del sistema real."
   ]
  },
  {
   "cell_type": "markdown",
   "id": "3ebcd0f2",
   "metadata": {},
   "source": [
    "### 2. Determine la distribución de probabilidad\n",
    "\n",
    "Elija el tipo de distribución de probabilidad que mejor defina el comportamiento aleatorio de cada una de las variables del sistema identificadas en el paso anterior."
   ]
  },
  {
   "cell_type": "markdown",
   "id": "803801d5",
   "metadata": {},
   "source": [
    "### 3. Modele las variables aleatorias \n",
    "\n",
    "Cosntruya un modelo fiel de la aleatoriedad de las variables del sistema. Simular el comportamiento del sistema implica generar muestras aleatorias de cada variable que sigan fielmente la distribución de probabilidad correspondiente."
   ]
  },
  {
   "cell_type": "markdown",
   "id": "33709223",
   "metadata": {},
   "source": [
    "### 4. Defina el modelo del sistema y los objetivos de la simulación \n",
    "\n",
    "Fije los objetivos y diseñe un modelo del sistema real que abstraiga sus propiedades más relevantes. Todo error en el modelo (o su implementación computacional) puede dar lugar a conclusiones equivocadas. \n",
    "\n",
    "Antes de experimentar con el modelo, asegurarse de que refleja fielmente el sistema real **validando** el mismo a partir de datos reales, para ello compare los resultados obtenidos de la simulación con los producidos por el sistema."
   ]
  },
  {
   "cell_type": "markdown",
   "id": "7f853065",
   "metadata": {},
   "source": [
    "### 5. Diseñe el experimento\n",
    "\n",
    "Diseñe un experimento así como las ejecuciones concretas del mismo, los escenarios que desea estudiar para alcanzar los objetivos fijados. El experimento consiste en generar valores de las variables cuyo comportamiento define el comportamiento del sistema y analizar este ante dichos valores."
   ]
  },
  {
   "cell_type": "markdown",
   "id": "15ae61c8",
   "metadata": {},
   "source": [
    "### 6. Repita el experimento $n$ veces \n",
    "\n",
    "Así dispondrá de $n$ observaciones sobre el comportamiento del sistema, lo que permitirá entender su funcionamiento así como evaluar el desempeño del mismo frente a los diversos escenarios establecidos.\n",
    "\n",
    "El **método Monte Carlo** se basa en la **Ley Fuerte de los Grandes Números** y el **Teorema del Límite Central**."
   ]
  },
  {
   "cell_type": "markdown",
   "id": "51ce3fa1",
   "metadata": {},
   "source": [
    "# Ejercicio\n",
    "\n",
    "Aproximar el valor del número pi ($\\pi$) utilizando Monte Carlo Acierto y Error (Hit or Miss)\n",
    "1. Analíticamente.\n",
    "2. Mediante simulación."
   ]
  },
  {
   "cell_type": "markdown",
   "id": "6f1b4105",
   "metadata": {},
   "source": [
    "# **Analiticamente**"
   ]
  },
  {
   "cell_type": "markdown",
   "id": "4d9f5c4c-a79d-4043-9e59-c87a3816708b",
   "metadata": {},
   "source": [
    "Recordemos que el área de un círculo es $A=\\pi r^2$, entonces con un $r=1$ aproximaremos a un $A=\\pi$, que es lo que buscamos inicialmente con el problema. Dado que queremos trabajar con Monte Carlo Acierto y error, se plantea la siguiente integral \n",
    "\\begin{equation*}\n",
    "\\begin{aligned}\n",
    " I = \\int_0^1 \\sqrt{1-x^2} \\quad dx\n",
    "\\end{aligned}\n",
    "\\end{equation*}\n",
    " que corresponde a un cuarto de círculo de radio igual a 1, representando en un cuadrante como se ve a continuación\n",
    "<img src=\"sqrt(1-x^2).jpg\" alt=\"\" width=\"400\" height=\"200\">\n",
    "\n",
    "Resolvemos la integral por sustitución trigonométrica:\n",
    "$x=sin(u) \\implies u=arcsin(x), dx=cos(u)$, así:\n",
    "\\begin{equation*}\n",
    "\\begin{aligned}\n",
    " I = \\int_0^1 \\sqrt{1-x^2} \\quad dx= \\int_0^1 cos(u) \\sqrt{1-sin^2(u)} \\quad du\n",
    "\\end{aligned}\n",
    "\\end{equation*}\n",
    "De la identidad $cos^2(u)=1-sin^2(u)$ podemos simplificar \n",
    "\\begin{equation*}\n",
    "\\begin{aligned}\n",
    " \\int_0^1 cos(u) \\sqrt{cos^2(u)} \\quad du =  \\int_0^1 cos^2(u) \\quad du \n",
    "\\end{aligned}\n",
    "\\end{equation*}\n",
    "pero  $cos^2(u)=\\frac{1+cos(2x)}{2}$, entonces\n",
    "\\begin{equation*}\n",
    "\\begin{aligned}\n",
    "\\int_0^1 &\\frac{1+cos(2x)}{2} \\quad du = \\left[\\frac{x}{2}+\\frac{1}{2}\\left(\\frac{1}{2}sen(2u)\\right)\\right]_0^1\n",
    "\\end{aligned}\n",
    "\\end{equation*}\n",
    "Y regresando a la sustitución esto es igual a \n",
    "\\begin{equation*}\n",
    "\\begin{aligned}\n",
    "\\left[\\frac{x}{2}+\\frac{1}{4}sen(2arcsin(x))\\right]_0^1=\\left[\\frac{arcsin(x)}{2}+\\frac{1}{4}(2x\\sqrt{1-x^2})\\right]_0^1=\\left[\\frac{arcsin(x)}{2}+\\frac{1}{2}(x\\sqrt{1-x^2})\\right]_0^1\n",
    "\\end{aligned}\n",
    "\\end{equation*}\n",
    "Finalmente obtenemos que \n",
    "\\begin{gather*}\n",
    "I = \\int_0^1 \\sqrt{1-x^2} \\quad dx= \\frac{\\pi}{4}\n",
    "\\end{gather*}\n",
    "\n",
    "Pero recordemos que esta integral, solo representa un cuarto del círculo, por lo que debemos multiplicar este resultado por 4, para obtener el valor de $\\pi$ requerido, es decir $A=I*4=\\frac{\\pi}{4}*4=\\pi$.\n",
    "\n",
    "\n"
   ]
  },
  {
   "cell_type": "markdown",
   "id": "564ca694",
   "metadata": {},
   "source": [
    "# **Por simulación: Construimos el modelo en varios pasos.**"
   ]
  },
  {
   "cell_type": "markdown",
   "id": "fbbc8571",
   "metadata": {},
   "source": [
    "**PASO 1**. Defina las variables que intervienen en el modelo."
   ]
  },
  {
   "cell_type": "markdown",
   "id": "019bc684-77fc-4b5d-8a93-e2134013d971",
   "metadata": {},
   "source": [
    "Definimos $u_1, u_2 \\sim U(0,1)$, como varibles aleatorias que nos sirven generar muestras aleatorias de una distribución específica, lo que nos servira para estimar la integral antes planteada."
   ]
  },
  {
   "cell_type": "markdown",
   "id": "4d3899f3",
   "metadata": {},
   "source": [
    "**PASO 2**. Formule la distribución de probabilidad de cada variable."
   ]
  },
  {
   "cell_type": "markdown",
   "id": "8fde011a-cd9e-4c51-b611-29ddd913ab0f",
   "metadata": {},
   "source": [
    "$$\n",
    "f(u_1) = \n",
    "\\begin{cases} \n",
    "1 & \\text{si } 0 \\leq u_1 \\leq 1 \\\\\n",
    "0 & \\text{en cualquier otro lugar}\n",
    "\\end{cases}\n",
    "$$\n",
    "\n",
    "$$\n",
    "f(u_2) = \n",
    "\\begin{cases} \n",
    "1 & \\text{si } 0 \\leq u_2 \\leq 1 \\\\\n",
    "0 & \\text{en cualquier otro lugar}\n",
    "\\end{cases}\n",
    "$$"
   ]
  },
  {
   "cell_type": "markdown",
   "id": "fd02116a",
   "metadata": {},
   "source": [
    "**PASO 3**. Enumere la distribución acumulada de probabilidad de cada variable."
   ]
  },
  {
   "cell_type": "markdown",
   "id": "2fccd3c3-6ba0-4dae-ae20-90e22339fd77",
   "metadata": {},
   "source": [
    "$$\n",
    "F(u_1) = \n",
    "\\begin{cases} \n",
    "0 & \\text{si } u_1 < 0 \\\\\n",
    "u_1 & \\text{si } 0 \\leq u_1 \\leq 1 \\\\\n",
    "1 & \\text{si } u_1 > 1\n",
    "\\end{cases}\n",
    "$$\n",
    "\n",
    "$$\n",
    "F(u_2) = \n",
    "\\begin{cases} \n",
    "0 & \\text{si } u_2 < 0 \\\\\n",
    "u_2 & \\text{si } 0 \\leq u_2\\leq 1 \\\\\n",
    "1 & \\text{si } u_2 > 1\n",
    "\\end{cases}\n",
    "$$"
   ]
  },
  {
   "cell_type": "markdown",
   "id": "4852dcac",
   "metadata": {},
   "source": [
    "**PASO 4**. Establezca el intervalo de números aleatorios correspondiente a cada valor de cada una de las variables."
   ]
  },
  {
   "cell_type": "markdown",
   "id": "28749df7-394d-4f67-acf2-9d3416b39cb8",
   "metadata": {},
   "source": [
    "\n",
    "\n"
   ]
  },
  {
   "cell_type": "markdown",
   "id": "edb6b074",
   "metadata": {},
   "source": [
    "**PASO 5**. Genere números aleatorios."
   ]
  },
  {
   "cell_type": "code",
   "execution_count": 155,
   "id": "f63ca1d9-96fa-481f-92a2-8ebb1a68973b",
   "metadata": {},
   "outputs": [
    {
     "data": {
      "text/plain": [
       "0.45633537994872186"
      ]
     },
     "execution_count": 155,
     "metadata": {},
     "output_type": "execute_result"
    }
   ],
   "source": [
    "import numpy as np\n",
    "import random\n",
    "u = random.uniform(0,1)\n",
    "u"
   ]
  },
  {
   "cell_type": "markdown",
   "id": "f38f3396",
   "metadata": {},
   "source": [
    "**PASO 6**. Simule un lanzamiento"
   ]
  },
  {
   "cell_type": "markdown",
   "id": "b0e07a77-945e-44e0-9b40-2dddaeb2a64e",
   "metadata": {},
   "source": [
    "Del algoritmo de Monte Carlo Acierto y Error, $(u_{1_i},u_{2_i})$ forman pares ordenados, y se calcula $X_i=a+u_{1_i}(b-a)$ y enseguida $g(X_i)$ \n",
    "entonces $N_H$ cuenta el numero \"aciertos\", es decir, las veces que el punto cae debajo de la integral, y esto pasa cuando se cumple que $g(X_i)>c u_{2_i}$.\n",
    "\n",
    "$a,b$ y $c$ se eligen de tal forma que formen un área rectangular que contenga la región sobre la cual se está integrando.\n",
    "<img src=\"0229241339~2.jpg\" alt=\"\" width=\"400\" height=\"200\">\n",
    "\n",
    "Si $g(X_i) > cu_2$ \n",
    "\n",
    "¿Ocurre lo de arriba? = **Acierto = 1**\n",
    "\n",
    "Si $g(X_i) \\leq cu_2$ \n",
    "\n",
    "¿Ocurre lo de arriba? = **Error = 0**\n",
    "\n",
    "\n",
    "Ejemplo:\n",
    "\n",
    "Con $a=0, b=1$ y $c=2$\n",
    "\n",
    "$(u_{1_1},u_{2_1})=(0.797,0.135) \\implies X_1=u_{1_1}$, así $g(X_1)=0.603$\n",
    "\n",
    "¿Se cumple la condicion $0.603>2 * 0.135$? = Acierto\n",
    "\n",
    "$(u_{1_2},u_{2_2})=(0.917,0.489) \\implies X_2=u_{1_2}$, así $g(X_2)=0.3988$\n",
    "\n",
    "¿Se cumple la condicion $0.3988>2 * 0.489$? = Error"
   ]
  },
  {
   "cell_type": "markdown",
   "id": "d270399e",
   "metadata": {},
   "source": [
    "**PASO 7**. Obtenga la gráfica de estabilización que indica que el tamaño de muestra utilizado es suficiente para \n",
    "garantizar la convergencia del resultado."
   ]
  },
  {
   "cell_type": "code",
   "execution_count": 156,
   "id": "2fd22e33",
   "metadata": {},
   "outputs": [],
   "source": [
    "import numpy as np\n",
    "import random\n",
    "import matplotlib.pyplot as plt"
   ]
  },
  {
   "cell_type": "code",
   "execution_count": 157,
   "id": "32719c0f",
   "metadata": {},
   "outputs": [],
   "source": [
    "def funcion(x): #Definimos la función a la cual le queremos calcular la integral en cierto intervalo.\n",
    "    return math.sqrt(1-x**2)"
   ]
  },
  {
   "cell_type": "code",
   "execution_count": 158,
   "id": "423546a4",
   "metadata": {},
   "outputs": [],
   "source": [
    "def experimentos(n): #Definimos una funcion que realizara \n",
    "  a=0 #limite inferior de la integral\n",
    "  b=1 #limite superior de la integral\n",
    "  c = 2 #Funcion que acota por arriba la funcion a integrar.\n",
    "  aciertos = 0 #Contador de la cantidad de veces que se cumple la condicion de monte carlo acierto y error.\n",
    "  area=[] #Guardara las aproximaciones del área bajo la curva de la función.\n",
    "  ensayos=[]\n",
    "  for i in range(1,n+1):\n",
    "      u1=(random.random()) #Generamos un número aleatorio en (0,1)\n",
    "      u2=(random.random()) #Generamos un segundo número aleatorio e independiente en (0,1)\n",
    "      x = (b-a)*u1+a #Utilizamos la tranformada inversa para traslar el U1 en el intervalo (0,1) al intervalo de interes (intervalo en donde se integra)\n",
    "      g_x = funcion(x) #Evaluamos la función a integrar en el aleatorio X generado anteriormente. \n",
    "      if g_x > c*u2: #Condición de Monte Carlo de Acierto y Error. \n",
    "        aciertos += 1 #Si se cumple la condición anterior, aumenta el contador el 1.\n",
    "      ensayos.append(i)\n",
    "      area.append(c*(b-a)*aciertos*4/i) #Recordando que el área bajo la curva de esa integral nos da \\pi/4, entonces necesitamos multiplicar\n",
    "      #el área bajo la curva en cada iteración por 4 para aproximarnos al valor de pi. \n",
    "  return area #Regresamos una lista de las aproxiamciones al valor de pi en la iteracion i. "
   ]
  },
  {
   "cell_type": "code",
   "execution_count": 159,
   "id": "0d2847cf",
   "metadata": {},
   "outputs": [],
   "source": [
    "exp = experimentos(5000) #Hara el experimento antes descrito 5000 veces, es decir, nos dara 5000 aproximaciones de pi para ver cuando se logra estabilizar."
   ]
  },
  {
   "cell_type": "code",
   "execution_count": 160,
   "id": "80e6e939-4848-4aa8-bef6-80d7640225c2",
   "metadata": {},
   "outputs": [
    {
     "data": {
      "text/plain": [
       "3.3298426954686438"
      ]
     },
     "execution_count": 160,
     "metadata": {},
     "output_type": "execute_result"
    }
   ],
   "source": [
    "np.mean(exp) #Saca la media de los experimentos, eso nos dará una idea de la aproximación al valor de pi"
   ]
  },
  {
   "cell_type": "code",
   "execution_count": 161,
   "id": "ef68f87c",
   "metadata": {},
   "outputs": [
    {
     "data": {
      "image/png": "[encoded data removed]",
      "text/plain": [
       "<Figure size 640x480 with 1 Axes>"
      ]
     },
     "metadata": {},
     "output_type": "display_data"
    }
   ],
   "source": [
    "plt.plot(exp) #Grafica la lista de aproximaciones de acuerdo a la cantidad de experiemntos realizada.\n",
    "plt.xlabel('iteraciones')\n",
    "plt.ylabel('Valor de $\\pi$')\n",
    "plt.title('Aproximación del valor de $\\pi$')\n",
    "plt.show()"
   ]
  },
  {
   "cell_type": "markdown",
   "id": "f596fcd1",
   "metadata": {},
   "source": [
    "**PASO 8**. Replique el modelo."
   ]
  },
  {
   "cell_type": "code",
   "execution_count": 162,
   "id": "b237f0d0",
   "metadata": {},
   "outputs": [],
   "source": [
    "def valor_pi(repeticiones): #Esta función hara la simulacion anterior muchas veces, es decir, hará \"repeticiones\" cantidad de veces\n",
    "    Area = []\n",
    "    for i in range(repeticiones):\n",
    "        Area.append(np.mean(experimentos(2000))) #Calcula la media de 2000 experiementos unas N (repeticiones) cantidad de veces.\n",
    "    return Area #Nos regresa N (repeticiones) medias de 2000 experiemntos cada una."
   ]
  },
  {
   "cell_type": "code",
   "execution_count": 163,
   "id": "d060db89",
   "metadata": {},
   "outputs": [],
   "source": [
    "N=100\n",
    "simulacion = valor_pi(N)"
   ]
  },
  {
   "cell_type": "code",
   "execution_count": 164,
   "id": "7de3bcbd-40b0-4a15-8671-89309c3ae34e",
   "metadata": {},
   "outputs": [
    {
     "data": {
      "text/plain": [
       "3.146041777319425"
      ]
     },
     "execution_count": 164,
     "metadata": {},
     "output_type": "execute_result"
    }
   ],
   "source": [
    "np.mean(simulacion) #Saca la media de las N simulaciones realizadas, eso nos dará una mejor de la aproximación al valor de pi"
   ]
  },
  {
   "cell_type": "code",
   "execution_count": 165,
   "id": "cc0b958d",
   "metadata": {},
   "outputs": [
    {
     "data": {
      "image/png": "[encoded data removed]",
      "text/plain": [
       "<Figure size 640x480 with 1 Axes>"
      ]
     },
     "metadata": {},
     "output_type": "display_data"
    }
   ],
   "source": [
    "plt.hist(simulacion) #Grafica las frecuencias de la aproximación al valor de pi de las N simualciones con 2000 experiementos cada una.\n",
    "plt.xlabel('Valor de $\\pi$')\n",
    "plt.ylabel('Frecuencia')\n",
    "plt.title('Histograma del valor de $\\pi$')\n",
    "plt.show()"
   ]
  },
  {
   "cell_type": "markdown",
   "id": "6e9bd469",
   "metadata": {},
   "source": [
    "**PASO 9**. Calcule la probabilidad de que aparezcan dos caras lanzando tres veces una moneda al aire y su desviación \n",
    "estándar."
   ]
  },
  {
   "cell_type": "code",
   "execution_count": 166,
   "id": "dbeb0461",
   "metadata": {},
   "outputs": [],
   "source": [
    "media = np.mean(simulacion) #Calcula la media de esas N simulaciones\n",
    "var = np.var(simulacion) #Calcula la varianza de esas N simulaciones\n",
    "desv = np.std(simulacion) #Calcula la desvaicion de esas N simulaciones"
   ]
  },
  {
   "cell_type": "markdown",
   "id": "db8776d2",
   "metadata": {},
   "source": [
    "**PASO 10**. Halle el intervalo de confianza del valor de $\\pi$ con un nivel de confianza del $95 \\%$.\n",
    "\\begin{equation*}\n",
    "\\overline{x}- Z_{\\frac{\\alpha}{2}}  \\cdot \\frac{S}{\\sqrt{N}} < \\mu < \\overline{x}+ Z_{\\frac{\\alpha}{2}}  \\cdot \\frac{S}{\\sqrt{N}}\n",
    "\\end{equation*}"
   ]
  },
  {
   "cell_type": "code",
   "execution_count": 167,
   "id": "e5132329",
   "metadata": {},
   "outputs": [
    {
     "name": "stdout",
     "output_type": "stream",
     "text": [
      "Entonces:  3.1217874286666527 < μ < 3.1702961259721976\n"
     ]
    }
   ],
   "source": [
    "from scipy.stats import norm #Importamos la libreria para poder obtener el valor de Z.\n",
    "alpha = 1 - 0.95 #Alpha es igual a 1 - la confianza del intervalo\n",
    "z_alpha_2 = norm.ppf(1-alpha / 2) #Mandamos a pedir el valor de Z para \\alpha/2, sabemos que si es el 95% de confienza, Z esta cercano al 1.96.\n",
    "l_inferior = media - z_alpha_2 * (desv / math.sqrt(N)) #Sacamos limite inferior por la formula\n",
    "l_superior = media + z_alpha_2 * (desv / math.sqrt(N)) #Sacamos limite superior por la formula\n",
    "print(\"Entonces: \", l_inferior, \"< \\u03BC <\", l_superior) #El intervalo en donde se encuentra el valor real a una confienza del 95%"
   ]
  },
  {
   "cell_type": "code",
   "execution_count": null,
   "id": "ee59b6f9-b543-4a78-81bd-a47466011cb1",
   "metadata": {},
   "outputs": [],
   "source": []
  }
 ],
 "metadata": {
  "kernelspec": {
   "display_name": "Python 3 (ipykernel)",
   "language": "python",
   "name": "python3"
  },
  "language_info": {
   "codemirror_mode": {
    "name": "ipython",
    "version": 3
   },
   "file_extension": ".py",
   "mimetype": "text/x-python",
   "name": "python",
   "nbconvert_exporter": "python",
   "pygments_lexer": "ipython3",
   "version": "3.9.5"
  }
 },
 "nbformat": 4,
 "nbformat_minor": 5
}
