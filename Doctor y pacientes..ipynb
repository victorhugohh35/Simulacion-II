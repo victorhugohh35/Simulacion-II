{
 "cells": [
  {
   "cell_type": "markdown",
   "id": "dc6df9b7-d3bc-47c7-98f3-2835a9637556",
   "metadata": {},
   "source": [
    "# Ejercicio\n",
    "Se desea encontrar el número de pacientes promedio en el consultorio de un doctor, para ello se realizan observaciones cada 5 minutos y se registran en la tabla siguiente\n",
    "\\begin{equation*}\n",
    "\\text{Estado Actual}=\n",
    "\\begin{bmatrix}\n",
    "3 & 5 & 2 & 0 & 0\\\\\n",
    "8 & 7 & 0 & 1 & 4\\\\\n",
    "5 & 5 & 5 & 5 & 5\\\\\n",
    "5 & 0 & 10 & 0 & 0\\\\\n",
    "1 & 0 & 0 & 0 & 1\n",
    "\\end{bmatrix}\n",
    "\\text{Estado Futuro} \n",
    "\\end{equation*}"
   ]
  },
  {
   "cell_type": "markdown",
   "id": "60e54183-7577-4aa5-8446-19afd25dd94c",
   "metadata": {},
   "source": [
    "# Solución Analítica"
   ]
  },
  {
   "cell_type": "markdown",
   "id": "6549e7f4-3daa-4bec-9013-b261c808d2aa",
   "metadata": {},
   "source": [
    "De acuerdo a lo anterior, el espacio de estados asociado a la cadena de Markov anterior es $S = \\{0,1,2,3,4\\}$, en donde: **0:= 0 Pacientes**, **1:= 1 Paciente**, **2:= 2 PAcientes** y **3:= Pacientes**.\n",
    "\n",
    "La matriz de transición asociada a la cadena anterior es:\n",
    "\\begin{equation*}\n",
    "P = \n",
    "\\begin{bmatrix}\n",
    "\\frac{3}{10} & \\frac{5}{10} & \\frac{2}{10} & 0 & 0\\\\\n",
    "\\frac{8}{20} & \\frac{7}{20} & 0 & \\frac{1}{20} & \\frac{4}{20}\\\\\n",
    "\\frac{5}{25} & \\frac{5}{25} & \\frac{5}{25} & \\frac{5}{25} & \\frac{5}{25}\\\\\n",
    "\\frac{5}{15} & 0 & \\frac{10}{15} & 0 & 0\\\\\n",
    "\\frac{1}{2} & 0 & 0 & 0 & \\frac{1}{2}\n",
    "\\end{bmatrix}\n",
    "\\end{equation*}"
   ]
  },
  {
   "cell_type": "markdown",
   "id": "73a30ddd-ed8f-409c-837b-1b07bef8ce38",
   "metadata": {},
   "source": [
    "Utilizando la propiedad de la **distribución estacionaria** para una cadena de Markov, es decir,\n",
    "\\begin{equation*}\n",
    "\\begin{aligned}\n",
    "\\pi \\textbf{P}  =& \\pi\\\\\n",
    "\\begin{bmatrix}\n",
    "\\pi_0 & \\pi_1 & \\pi_2 & \\pi_3 & \\pi_4\n",
    "\\end{bmatrix} \\times\n",
    "\\begin{bmatrix}\n",
    "\\frac{3}{10} & \\frac{5}{10} & \\frac{2}{10} & 0 & 0\\\\\n",
    "\\frac{8}{20} & \\frac{7}{20} & 0 & \\frac{1}{20} & \\frac{4}{20}\\\\\n",
    "\\frac{5}{25} & \\frac{5}{25} & \\frac{5}{25} & \\frac{5}{25} & \\frac{5}{25}\\\\\n",
    "\\frac{5}{15} & 0 & \\frac{10}{15} & 0 & 0\\\\\n",
    "\\frac{1}{2} & 0 & 0 & 0 & \\frac{1}{2}\n",
    "\\end{bmatrix} \n",
    "&=\n",
    "\\begin{bmatrix}\n",
    "\\pi_0 \\\\\n",
    "\\pi_1\\\\\n",
    "\\pi_2\\\\\n",
    "\\pi_3\\\\\n",
    "\\pi_4\n",
    "\\end{bmatrix}\n",
    "\\\\\n",
    "\\end{aligned}\n",
    "\\end{equation*}\n",
    "Además de esto, sabemos que se debe de satisfacer que todos los valores sean no negativos y además su suma sea igual a uno, es decir\n",
    "\\begin{equation*}\n",
    "\\pi_0 + \\pi_1 + \\pi_2 + \\pi_3 + \\pi_4 = 1\n",
    "\\end{equation*}\n",
    "Entonces, remplazamos esta condición con alguna ecuación del sistema de ecuaciones\n",
    "\n"
   ]
  },
  {
   "cell_type": "markdown",
   "id": "dab5934c-d44a-4b81-af24-32a6e9b6f8c6",
   "metadata": {},
   "source": [
    "\\begin{equation*}\n",
    "\\begin{aligned}\n",
    "\\begin{bmatrix}\n",
    "-\\frac{7}{10} & \\frac{8}{20} & \\frac{1}{5} & \\frac{5}{15} & \\frac{1}{2} \\\\\n",
    "\\frac{5}{10} & -\\frac{13}{20} & \\frac{1}{5} & 0 & 0 \\\\\n",
    "\\frac{2}{10} & 0 & -\\frac{4}{5} & \\frac{10}{15} & 0 \\\\\n",
    "0 & \\frac{1}{20} & \\frac{1}{5} & -1 & 0 \\\\\n",
    "1 & 1 & 1 & 1 & 1\n",
    "\\end{bmatrix}  \\times \n",
    "\\begin{bmatrix}\n",
    "\\pi_0 \\\\\n",
    "\\pi_1\\\\\n",
    "\\pi_2\\\\\n",
    "\\pi_3\\\\\n",
    "\\pi_4\n",
    "\\end{bmatrix} &=\n",
    "\\begin{bmatrix}\n",
    "0\\\\\n",
    "0\\\\\n",
    "0\\\\\n",
    "0\\\\\n",
    "1\n",
    "\\end{bmatrix}\n",
    "\\\\\n",
    "\\end{aligned}\n",
    "\\end{equation*}\n",
    "\n",
    "Resolviendo el sistema de ecuaciones, tenemos:\n",
    "\\begin{equation*}\n",
    "\\begin{aligned}\n",
    "\\pi_0 &= \\frac{160}{451}\\\\\n",
    "\\pi_1 &= \\frac{140}{451}\\\\\n",
    "\\pi_2 &= \\frac{5}{41}\\\\\n",
    "\\pi_3 &= \\frac{18}{451}\\\\\n",
    "\\pi_4 &= \\frac{78}{451}\n",
    "\\end{aligned}\n",
    "\\end{equation*}\n",
    "## Es decir, el valor esperado de pacientes es:\n",
    "\\begin{equation*}\n",
    "\\begin{aligned}\n",
    "E[\\text{número de pacientes}] &= \\sum_{i=0}^4 i \\times p_i \\\\\n",
    "&= 0\\left(\\frac{160}{451}\\right) + 1\\left(\\frac{140}{451}\\right) + 2\\left(\\frac{5}{41}\\right) + 3\\left(\\frac{18}{451}\\right) + 4\\left(\\frac{78}{451}\\right)\\\\\n",
    "& \\approx 1.3658 \\quad \\blacksquare\n",
    "\\end{aligned}\n",
    "\\end{equation*}\n"
   ]
  },
  {
   "cell_type": "markdown",
   "id": "7fc67c95-5ec7-4a08-9a2f-50db90d47a42",
   "metadata": {},
   "source": [
    "# Solución por Simulación"
   ]
  },
  {
   "cell_type": "code",
   "execution_count": 46,
   "id": "a65cbe23-a491-413c-acfb-f6e3803906a0",
   "metadata": {},
   "outputs": [],
   "source": [
    "import numpy as np\n",
    "import random\n",
    "from scipy.stats import norm\n",
    "import math\n",
    "import matplotlib.pyplot as plt"
   ]
  },
  {
   "cell_type": "code",
   "execution_count": 47,
   "id": "24007ca0-cee3-45c7-be1f-0349ad761b2b",
   "metadata": {},
   "outputs": [],
   "source": [
    "import random\n",
    "def exper(N):\n",
    "    pacientes=[] #Guardara las probabilidades de que haya interferencia entre el cojinete y la flecha en la iteración i.\n",
    "    ensayos=[]\n",
    "    \n",
    "    probabilidades = [[3/10, 5/10, 2/10, 0, 0],\n",
    "                      [8/20, 7/20, 0, 1/20, 4/20],\n",
    "                      [1/5, 1/5, 1/5, 1/5, 1/5],\n",
    "                      [5/15, 0, 10/15, 0, 0],\n",
    "                      [1/2, 0, 0, 0, 1/2]] #probabilidades de transicion\n",
    "    \n",
    "    estados = [0,1,2,3,4] #numero de pacientes\n",
    "    \n",
    "   # N = 10000\n",
    "    pacientes_totales = 0\n",
    "    for j in range(1,N+1):\n",
    "        pacientes_inicial = random.choice(estados) #selecciona 1 de los 5 estados con la misma probabilidad para iniciar el día\n",
    "        for i in range(100): #100 observaciones durante el dia\n",
    "            pacientes_final = random.choices(estados, weights=probabilidades[pacientes_inicial])[0] #selecciona 1 de los 5 estados con \n",
    "            #probabilidad de acuerdo a la matriz de transicion, esto igual guarda\n",
    "            pacientes_inicial = pacientes_final\n",
    "        pacientes_totales += pacientes_final\n",
    "        ensayos.append(j) #Se va guardando en una lista la iteración i.\n",
    "        pacientes.append(pacientes_totales/j) #Se va guardadndo los pacientes esperados en la iteración i\n",
    "    return pacientes"
   ]
  },
  {
   "cell_type": "code",
   "execution_count": 48,
   "id": "271f10b4-18c9-46e5-926a-489d42393e7e",
   "metadata": {},
   "outputs": [],
   "source": [
    "exp = exper(1000) #Hara el experimento antes descrito 1500 veces, es decir, nos dara \n",
    "#1500 aproximaciones s la probabilidad para ver cuando se logra estabilizar."
   ]
  },
  {
   "cell_type": "code",
   "execution_count": 49,
   "id": "769c8091-849a-45fc-89a5-a8c0e48c809c",
   "metadata": {},
   "outputs": [
    {
     "data": {
      "image/png": "[encoded data removed]",
      "text/plain": [
       "<Figure size 640x480 with 1 Axes>"
      ]
     },
     "metadata": {},
     "output_type": "display_data"
    }
   ],
   "source": [
    "plt.plot(exp) #Grafica la lista de aproximaciones de acuerdo a la cantidad de experimentos realizados.\n",
    "plt.xlabel('iteraciones')\n",
    "plt.ylabel('Aproximación en la iteración i')\n",
    "plt.title('Aproximación los pacientes esperados')\n",
    "\n",
    "# Agrega una línea vertical en la iteración 750 que de manera visual es donde comienza el estado estable.\n",
    "plt.axvline(x=750, color='red', linestyle='--', label='Estado Estable en 750')\n",
    "\n",
    "plt.legend()  # Muestra la leyenda si es necesario\n",
    "plt.show()"
   ]
  },
  {
   "cell_type": "code",
   "execution_count": 50,
   "id": "be987dcd-6eb8-441e-a01c-8f8cd3fe9850",
   "metadata": {},
   "outputs": [],
   "source": [
    "def valor(repeticiones): #Esta función hara la simulación anterior muchas veces, es decir, hará \"repeticiones\" cantidad de veces\n",
    "    Num_pacientes = []\n",
    "    for i in range(repeticiones):\n",
    "        Num_pacientes.append(np.mean(exper(750))) #Calcula la media de 750 experiementos unas N (repeticiones) cantidad de veces.\n",
    "    return Num_pacientes #Nos regresa N (repeticiones) medias de 750 experimentos cada una."
   ]
  },
  {
   "cell_type": "code",
   "execution_count": 51,
   "id": "9d3fa729-d83e-442a-9dec-2c3ff36ec17a",
   "metadata": {},
   "outputs": [],
   "source": [
    "N=100\n",
    "simulacion = valor(N)"
   ]
  },
  {
   "cell_type": "code",
   "execution_count": 52,
   "id": "50bdeb95-abaf-455b-bc3e-6217e3391861",
   "metadata": {},
   "outputs": [
    {
     "data": {
      "text/plain": [
       "1.3650667048081688"
      ]
     },
     "execution_count": 52,
     "metadata": {},
     "output_type": "execute_result"
    }
   ],
   "source": [
    "np.mean(simulacion)"
   ]
  },
  {
   "cell_type": "code",
   "execution_count": 53,
   "id": "e27e424f-cc77-46c3-9a88-73d9e222b611",
   "metadata": {},
   "outputs": [
    {
     "data": {
      "image/png": "[encoded data removed]",
      "text/plain": [
       "<Figure size 640x480 with 1 Axes>"
      ]
     },
     "metadata": {},
     "output_type": "display_data"
    }
   ],
   "source": [
    "plt.hist(simulacion) #Grafica las frecuencias de la aproximación a la probabilidad de las N simualciones con 750 experiementos cada una.\n",
    "plt.xlabel('iteraciones')\n",
    "plt.ylabel('Frecuencia')\n",
    "plt.title('Aproximación al número de pacientes esperados')\n",
    "plt.show()"
   ]
  },
  {
   "cell_type": "markdown",
   "id": "69176eb7-d573-426f-9b4d-d83c803a27f5",
   "metadata": {},
   "source": [
    "**PASO 9**. Calcule la media del área bajo la curva de la función y su desviación estándar."
   ]
  },
  {
   "cell_type": "code",
   "execution_count": 54,
   "id": "ee6c730c-5676-4ec6-ae51-2bcc8c08120b",
   "metadata": {},
   "outputs": [],
   "source": [
    "media = np.mean(simulacion) #Calcula la media de esas N simulaciones\n",
    "var = np.var(simulacion) #Calcula la varianza de esas N simulaciones\n",
    "desv = np.std(simulacion) #Calcula la desvaicion de esas N simulaciones"
   ]
  },
  {
   "cell_type": "markdown",
   "id": "6c1ebdf4-bf8e-4c42-9a01-1b506a9cbf44",
   "metadata": {},
   "source": [
    "**PASO 10**. Halle el intervalo de confianza del valor de la integral con un nivel de confianza del $95 \\%$.\n",
    "\\begin{equation*}\n",
    "\\overline{x}- Z_{\\frac{\\alpha}{2}}  \\cdot \\frac{S}{\\sqrt{N}} < \\mu < \\overline{x}+ Z_{\\frac{\\alpha}{2}}  \\cdot \\frac{S}{\\sqrt{N}}\n",
    "\\end{equation*}"
   ]
  },
  {
   "cell_type": "code",
   "execution_count": 55,
   "id": "3268149d-7a52-47ec-a97f-74a66278c49a",
   "metadata": {},
   "outputs": [
    {
     "name": "stdout",
     "output_type": "stream",
     "text": [
      "Entonces:  1.3493115036932142 < μ < 1.3808219059231235\n"
     ]
    }
   ],
   "source": [
    "from scipy.stats import norm #Importamos la libreria para poder obtener el valor de Z.\n",
    "alpha = 1 - 0.95 #Alpha es igual a 1 - la confianza del intervalo\n",
    "z_alpha_2 = norm.ppf(1-alpha / 2) #Mandamos a pedir el valor de Z para \\alpha/2, sabemos que si es el 95% de confienza, Z esta cercano al 1.96.\n",
    "l_inferior = media - z_alpha_2 * (desv / math.sqrt(N)) #Sacamos limite inferior por la formula\n",
    "l_superior = media + z_alpha_2 * (desv / math.sqrt(N)) #Sacamos limite superior por la formula\n",
    "print(\"Entonces: \", l_inferior, \"< \\u03BC <\", l_superior) #El intervalo en donde se encuentra el valor real a una confienza del 95%"
   ]
  }
 ],
 "metadata": {
  "kernelspec": {
   "display_name": "Python 3 (ipykernel)",
   "language": "python",
   "name": "python3"
  },
  "language_info": {
   "codemirror_mode": {
    "name": "ipython",
    "version": 3
   },
   "file_extension": ".py",
   "mimetype": "text/x-python",
   "name": "python",
   "nbconvert_exporter": "python",
   "pygments_lexer": "ipython3",
   "version": "3.11.7"
  }
 },
 "nbformat": 4,
 "nbformat_minor": 5
}
